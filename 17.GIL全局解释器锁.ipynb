{
 "cells": [
  {
   "cell_type": "markdown",
   "metadata": {},
   "source": [
    "## GIL全局解释器锁\n",
    "Python自带的解释器是`CPython`。`CPython`解释器的多线程实际上是一个假的多线程（在多核CPU中，只能利用一核，不能利用多核）。同一时刻只有一个线程在执行。为了保证同一时刻只有一份线程在执行，在`CPython`解释器中有一个东西叫`GIL (Global Interpreter Lock)`，叫做全局解释器锁。这个解释器锁是由必要的。因为`CPython`解释器的内存管理不是线程安全的。当然除了`CPython`解释器（执行效率高，毕竟是用C语言写的），还有其他的解释器，有些解释器是没有`GIL`锁的，见下面：\n",
    "1. `Jython`: 用Java实现的Python解释器。不存在GIL锁。\n",
    "2. `IronPython`: 用`.net`实现的python解释器。不存在GIL锁。\n",
    "3. `PyPy`: 用Python实现的Python解释器。存在GIL锁。\n",
    "\n",
    "GIL虽然是一个假的线程。但是在处理一些IO操作（比如文件读写和网络请求因为这些操作不费CPU但是存在等待时间，在等待时间就可以让电脑去做别的事）还是可以在很大程度上提高效率的。在IO操作上建议使用多线程提高效率。在一些CPU计算操作（比如渲染一个3D模型（费CPU））上不建议使用多线程。而建议使用多进程，因为多线程耗费的CPU比较多，而这种CPU密集型的操作本身就费CPU。"
   ]
  },
  {
   "cell_type": "code",
   "execution_count": null,
   "metadata": {},
   "outputs": [],
   "source": []
  }
 ],
 "metadata": {
  "kernelspec": {
   "display_name": "Python 3",
   "language": "python",
   "name": "python3"
  },
  "language_info": {
   "codemirror_mode": {
    "name": "ipython",
    "version": 3
   },
   "file_extension": ".py",
   "mimetype": "text/x-python",
   "name": "python",
   "nbconvert_exporter": "python",
   "pygments_lexer": "ipython3",
   "version": "3.6.5"
  }
 },
 "nbformat": 4,
 "nbformat_minor": 2
}
