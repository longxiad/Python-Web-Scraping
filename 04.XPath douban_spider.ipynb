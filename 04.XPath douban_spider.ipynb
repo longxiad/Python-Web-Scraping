{
 "cells": [
  {
   "cell_type": "code",
   "execution_count": 20,
   "metadata": {},
   "outputs": [
    {
     "name": "stdout",
     "output_type": "stream",
     "text": [
      "[{'title': '碟中谍6：全面瓦解', 'score': '8.3', 'duration': '148分钟(中国大陆)', 'region': '美国', 'director': '克里斯托弗·麦奎里', 'actors': '汤姆·克鲁斯 / 亨利·卡维尔 / 文·瑞姆斯', 'thumbnail': 'https://img3.doubanio.com/view/photo/s_ratio_poster/public/p2529365085.jpg'}, {'title': '那些女人', 'score': '0', 'duration': '114分钟', 'region': '中国大陆', 'director': '吴贻弓', 'actors': '何赛飞 / 胡可 / 殷桃', 'thumbnail': 'https://img3.doubanio.com/view/photo/s_ratio_poster/public/p2530146643.jpg'}, {'title': '蚁人2：黄蜂女现身', 'score': '7.5', 'duration': '119分钟(中国大陆)', 'region': '美国', 'director': '佩顿·里德', 'actors': '保罗·路德 / 伊万杰琳·莉莉 / 迈克尔·佩纳', 'thumbnail': 'https://img1.doubanio.com/view/photo/s_ratio_poster/public/p2529389608.jpg'}, {'title': '苏丹', 'score': '7.2', 'duration': '139分钟(中国大陆)', 'region': '印度', 'director': '阿里·阿巴斯·札法', 'actors': '萨尔曼·汗 / 安努舒卡·莎玛 / 马雷塞·克伦普', 'thumbnail': 'https://img3.doubanio.com/view/photo/s_ratio_poster/public/p2529570494.jpg'}, {'title': '快把我哥带走', 'score': '7.0', 'duration': '115分钟', 'region': '中国大陆', 'director': '郑芬芬', 'actors': '张子枫 / 彭昱畅 / 赵今麦', 'thumbnail': 'https://img3.doubanio.com/view/photo/s_ratio_poster/public/p2531080870.jpg'}, {'title': '巨齿鲨', 'score': '6.0', 'duration': '115分钟(中国大陆)', 'region': '美国 中国大陆 香港', 'director': '乔·德特杜巴', 'actors': '杰森·斯坦森 / 李冰冰 / 雷恩·威尔森', 'thumbnail': 'https://img3.doubanio.com/view/photo/s_ratio_poster/public/p2530572643.jpg'}, {'title': '精灵旅社3：疯狂假期', 'score': '6.9', 'duration': '98分钟', 'region': '美国', 'director': '格恩迪·塔塔科夫斯基', 'actors': '亚当·桑德勒 / 凯瑟琳·哈恩 / 史蒂夫·布西密', 'thumbnail': 'https://img3.doubanio.com/view/photo/s_ratio_poster/public/p2530591543.jpg'}, {'title': '一出好戏', 'score': '7.3', 'duration': '134分钟', 'region': '中国大陆', 'director': '黄渤', 'actors': '黄渤 / 舒淇 / 王宝强', 'thumbnail': 'https://img3.doubanio.com/view/photo/s_ratio_poster/public/p2529571873.jpg'}, {'title': '藏北秘岭-重返无人区', 'score': '6.1', 'duration': '86分钟', 'region': '中国大陆', 'director': '饶子君', 'actors': '蔡宇 / 饶子君 / 土旦巴桑', 'thumbnail': 'https://img3.doubanio.com/view/photo/s_ratio_poster/public/p2532522676.jpg'}, {'title': '大师兄', 'score': '5.3', 'duration': '100分钟', 'region': '中国大陆 香港', 'director': '阚家伟', 'actors': '甄子丹 / 陈乔恩 / 喻亢', 'thumbnail': 'https://img1.doubanio.com/view/photo/s_ratio_poster/public/p2528842218.jpg'}, {'title': '西虹市首富', 'score': '6.7', 'duration': '118分钟', 'region': '中国大陆', 'director': '闫非 彭大魔', 'actors': '沈腾 / 宋芸桦 / 张一鸣', 'thumbnail': 'https://img1.doubanio.com/view/photo/s_ratio_poster/public/p2529206747.jpg'}, {'title': '解剖室灵异事件之男生宿舍', 'score': '0', 'duration': '85分钟', 'region': '中国大陆', 'director': '战越', 'actors': '陈楚洹 / 黄启航 / 龚婉怡', 'thumbnail': 'https://img1.doubanio.com/view/photo/s_ratio_poster/public/p2531763257.jpg'}, {'title': '曹操与杨修', 'score': '0', 'duration': '121分钟', 'region': '中国大陆', 'director': '滕俊杰', 'actors': '尚长荣 / 言兴朋', 'thumbnail': 'https://img1.doubanio.com/view/photo/s_ratio_poster/public/p2531189407.jpg'}, {'title': '超大号美人', 'score': '6.4', 'duration': '110分钟', 'region': '美国 中国大陆', 'director': '艾比·科恩 马克·西尔弗斯坦', 'actors': '艾米·舒默 / 米歇尔·威廉姆斯 / 汤姆·霍珀', 'thumbnail': 'https://img1.doubanio.com/view/photo/s_ratio_poster/public/p2531291468.jpg'}, {'title': '深海历险记', 'score': '0', 'duration': '92分钟', 'region': '中国大陆', 'director': 'Julio Soto Gurpide', 'actors': '张璐 / 陈红 / 张云龙', 'thumbnail': 'https://img1.doubanio.com/view/photo/s_ratio_poster/public/p2529479778.jpg'}, {'title': '黑子的篮球·终极一战', 'score': '6.5', 'duration': '91分钟', 'region': '日本', 'director': '多田俊介', 'actors': '小野贤章 / 小野友树 / 神谷浩史', 'thumbnail': 'https://img3.doubanio.com/view/photo/s_ratio_poster/public/p2531651342.jpg'}, {'title': '新乌龙院之笑闹江湖', 'score': '3.6', 'duration': '103分钟', 'region': '中国大陆', 'director': '朱延平', 'actors': '王宁 / 孔连顺 / 王智', 'thumbnail': 'https://img3.doubanio.com/view/photo/s_ratio_poster/public/p2529762680.jpg'}, {'title': '足球王者', 'score': '0', 'duration': '90分钟', 'region': '中国大陆', 'director': '刘骏', 'actors': '禹祥 / 绿绮 / 瀚墨', 'thumbnail': 'https://img1.doubanio.com/view/photo/s_ratio_poster/public/p2529790397.jpg'}, {'title': '小偷家族', 'score': '8.7', 'duration': '117分钟(中国大陆)', 'region': '日本', 'director': '是枝裕和', 'actors': '中川雅也 / 安藤樱 / 松冈茉优', 'thumbnail': 'https://img3.doubanio.com/view/photo/s_ratio_poster/public/p2530599636.jpg'}, {'title': '神秘世界历险记4', 'score': '5.5', 'duration': '85分钟', 'region': '中国大陆', 'director': '王云飞 张林旭 李佳怡', 'actors': '阎么么 / 赵一博 / 张磊', 'thumbnail': 'https://img3.doubanio.com/view/photo/s_ratio_poster/public/p2528380655.jpg'}, {'title': '我不是药神', 'score': '9.0', 'duration': '117分钟', 'region': '中国大陆', 'director': '文牧野', 'actors': '徐峥 / 王传君 / 周一围', 'thumbnail': 'https://img3.doubanio.com/view/photo/s_ratio_poster/public/p2519070834.jpg'}, {'title': '爸，我一定行的', 'score': '6.2', 'duration': '100分钟', 'region': '中国大陆', 'director': '蓝鸿春', 'actors': '郑润奇 / 郑鹏生 / 张咏娴', 'thumbnail': 'https://img3.doubanio.com/view/photo/s_ratio_poster/public/p2530908793.jpg'}, {'title': '摩天营救', 'score': '6.5', 'duration': '102分钟', 'region': '美国', 'director': '罗森·马歇尔·瑟伯', 'actors': '道恩·强森 / 内芙·坎贝尔 / 黄经汉', 'thumbnail': 'https://img3.doubanio.com/view/photo/s_ratio_poster/public/p2527484082.jpg'}, {'title': '爱情公寓', 'score': '2.8', 'duration': '117分钟', 'region': '中国大陆', 'director': '韦正', 'actors': '陈赫 / 袁弘 / 娄艺潇', 'thumbnail': 'https://img3.doubanio.com/view/photo/s_ratio_poster/public/p2521648155.jpg'}, {'title': '大三儿', 'score': '7.6', 'duration': '106分钟', 'region': '中国大陆', 'director': '佟晟嘉', 'actors': '叶云', 'thumbnail': 'https://img3.doubanio.com/view/photo/s_ratio_poster/public/p2530569532.jpg'}, {'title': '风语咒', 'score': '7.0', 'duration': '105分钟', 'region': '中国大陆', 'director': '刘阔', 'actors': '路知行 / 阎萌萌 / 褚珺', 'thumbnail': 'https://img3.doubanio.com/view/photo/s_ratio_poster/public/p2530872223.jpg'}, {'title': '欧洲攻略', 'score': '3.7', 'duration': '100分钟', 'region': '中国大陆 英国', 'director': '马楚成', 'actors': '梁朝伟 / 吴亦凡 / 唐嫣', 'thumbnail': 'https://img1.doubanio.com/view/photo/s_ratio_poster/public/p2529410377.jpg'}, {'title': '最后的棒棒', 'score': '6.4', 'duration': '99分钟', 'region': '中国大陆', 'director': '何苦', 'actors': '何苦', 'thumbnail': 'https://img3.doubanio.com/view/photo/s_ratio_poster/public/p2528959166.jpg'}, {'title': '摇滚小子', 'score': '0', 'duration': '100分钟', 'region': '中国大陆', 'director': '段玉宝 王金利', 'actors': '安琥 / 徐洁儿 / 苏翊鸣', 'thumbnail': 'https://img1.doubanio.com/view/photo/s_ratio_poster/public/p2531681767.jpg'}, {'title': '奇怪的袜子精灵', 'score': '6.6', 'duration': '86分钟', 'region': '捷克 斯洛伐克 克罗地亚', 'director': '加林娜·米克林诺瓦', 'actors': '克里斯托弗·哈德克 / Jan Maxián / David Novotný', 'thumbnail': 'https://img3.doubanio.com/view/photo/s_ratio_poster/public/p2529590610.jpg'}, {'title': '浴血广昌', 'score': '5.3', 'duration': '100分钟', 'region': '中国大陆', 'director': '高峰 张馨', 'actors': '卢秋宏 / 何达 / 郑昊', 'thumbnail': 'https://img1.doubanio.com/view/photo/s_ratio_poster/public/p2529260597.jpg'}, {'title': '信仰者', 'score': '0', 'duration': '104分钟', 'region': '中国大陆', 'director': '杨虎', 'actors': '黄少祺 / 赵毅 / 葛子铭', 'thumbnail': 'https://img1.doubanio.com/view/photo/s_ratio_poster/public/p2530153907.jpg'}, {'title': '萌宠入殓师', 'score': '0', 'duration': '90分钟', 'region': '中国大陆', 'director': '源唯杰', 'actors': '薛明媛 / 傅亨 / 喻言', 'thumbnail': 'https://img3.doubanio.com/view/photo/s_ratio_poster/public/p2531220792.jpg'}]\n"
     ]
    }
   ],
   "source": [
    "import requests\n",
    "from lxml import etree\n",
    "# 1.将目标网站上的页面抓取下来\n",
    "headers = {\n",
    "    'User-Agent': 'Mozilla/5.0 (Macintosh; Intel Mac OS X 10_13_6) AppleWebKit/537.36 (KHTML, like Gecko) Chrome/68.0.3440.106 Safari/537.36',\n",
    "    'Refer': 'https://movie.douban.com/'\n",
    "}\n",
    "url = 'https://movie.douban.com/cinema/nowplaying/shanghai/'\n",
    "response = requests.get(url, headers=headers)\n",
    "# response.text: 返回的是一个经过解码后的字符串，是str(unicode)类型\n",
    "# response.content: 返回的是一个原生的字符串，就是从网页上抓取下来的，没有经过处理的字符串，是bytes类型\n",
    "text = response.text\n",
    "\n",
    "# 2.将抓取下来的数据根据一定的规则进行提取\n",
    "html = etree.HTML(text)\n",
    "ul = html.xpath(\"//ul[@class='lists']\")[0] #我们找的是正在上映的，第二个是即将上映的\n",
    "lis = ul.xpath(\"./li\")\n",
    "\n",
    "movies = []\n",
    "for li in lis:\n",
    "    title = li.xpath(\"@data-title\")[0]\n",
    "    score = li.xpath(\"@data-score\")[0]\n",
    "    duration = li.xpath(\"@data-duration\")[0]\n",
    "    region = li.xpath(\"@data-region\")[0]\n",
    "    director = li.xpath(\"@data-director\")[0]\n",
    "    actors = li.xpath(\"@data-actors\")[0]\n",
    "    thumbnail = li.xpath(\".//img/@src\")[0]\n",
    "    movie = {\n",
    "        'title': title,\n",
    "        'score': score,\n",
    "        'duration': duration,\n",
    "        'region': region,\n",
    "        'director': director,\n",
    "        'actors': actors,\n",
    "        'thumbnail': thumbnail\n",
    "    }\n",
    "    movies.append(movie)\n",
    "\n",
    "print(movies)"
   ]
  },
  {
   "cell_type": "code",
   "execution_count": null,
   "metadata": {},
   "outputs": [],
   "source": []
  }
 ],
 "metadata": {
  "kernelspec": {
   "display_name": "Python 3",
   "language": "python",
   "name": "python3"
  },
  "language_info": {
   "codemirror_mode": {
    "name": "ipython",
    "version": 3
   },
   "file_extension": ".py",
   "mimetype": "text/x-python",
   "name": "python",
   "nbconvert_exporter": "python",
   "pygments_lexer": "ipython3",
   "version": "3.7.0"
  }
 },
 "nbformat": 4,
 "nbformat_minor": 2
}
