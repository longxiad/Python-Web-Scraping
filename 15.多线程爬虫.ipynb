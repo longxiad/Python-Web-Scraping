{
 "cells": [
  {
   "cell_type": "markdown",
   "metadata": {},
   "source": [
    "## 多线程爬虫\n",
    "有些时候，比如下载图片，因为下载图片是一个耗时的操作。如果采用之前那种同步的方式下载。那效率肯定特别慢。这时候我们就可以考虑使用多线程的方式来下载图片。\n",
    "## 多线程介绍：\n",
    "多线程是为了同步完成多项任务，通过提高资源使用效率来提高系统的效率。现场是在同一时间需要完成多项任务的时候实现的。最简单的比喻**多线程**就像火车的每一节车厢，而**进程**则是火车。车厢离开火车是无法跑动的，同理火车也可以有多节车厢。多线程的出现就是为了提高效率。同时它的出现也带来了一些问题。"
   ]
  },
  {
   "cell_type": "markdown",
   "metadata": {},
   "source": [
    "## threading模块介绍：\n",
    "`threading`模块是`python`中专门提供来做多线程的模块。`threading`模块中最常用的类是`Thread`。以下看一个简单的多线程程序："
   ]
  },
  {
   "cell_type": "code",
   "execution_count": 1,
   "metadata": {},
   "outputs": [],
   "source": [
    "# 传统方式\n",
    "import threading\n",
    "import time\n",
    "\n",
    "def coding():\n",
    "    for x in range(3):\n",
    "        print('正在写代码%s' % x)\n",
    "        time.sleep(1)\n",
    "        \n",
    "def drawing():\n",
    "    for x in range(3):\n",
    "        print('正在画图%s' % x)\n",
    "        time.sleep(1)\n",
    "        \n",
    "def single_thread():\n",
    "    coding()\n",
    "    drawing()\n",
    "    end = time.time()"
   ]
  },
  {
   "cell_type": "code",
   "execution_count": 2,
   "metadata": {},
   "outputs": [
    {
     "name": "stdout",
     "output_type": "stream",
     "text": [
      "正在写代码0\n",
      "正在写代码1\n",
      "正在写代码2\n",
      "正在画图0\n",
      "正在画图1\n",
      "正在画图2\n"
     ]
    }
   ],
   "source": [
    "single_thread()"
   ]
  },
  {
   "cell_type": "code",
   "execution_count": 3,
   "metadata": {},
   "outputs": [],
   "source": [
    "# 采用多线程的方式\n",
    "def multi_thread():\n",
    "    t1 = threading.Thread(target=coding)\n",
    "    t2 = threading.Thread(target=drawing)\n",
    "    \n",
    "    t1.start()\n",
    "    t2.start()\n",
    "    "
   ]
  },
  {
   "cell_type": "code",
   "execution_count": 4,
   "metadata": {},
   "outputs": [
    {
     "name": "stdout",
     "output_type": "stream",
     "text": [
      "正在写代码0正在画图0\n",
      "\n",
      "正在画图1正在写代码1\n",
      "\n",
      "正在画图2正在写代码2\n",
      "\n"
     ]
    }
   ],
   "source": [
    "multi_thread()"
   ]
  },
  {
   "cell_type": "markdown",
   "metadata": {},
   "source": [
    "## 查看线程数：\n",
    "使用`threading.enumerate()`函数便可以看到当前线程的数量。"
   ]
  },
  {
   "cell_type": "code",
   "execution_count": 5,
   "metadata": {},
   "outputs": [
    {
     "name": "stdout",
     "output_type": "stream",
     "text": [
      "正在写代码0\n",
      "正在画图0[<_MainThread(MainThread, started 140736248112000)>, <Thread(Thread-2, started daemon 123145409282048)>, <Heartbeat(Thread-3, started daemon 123145414537216)>, <HistorySavingThread(IPythonHistorySavingThread, started 123145420865536)>, <ParentPollerUnix(Thread-1, started daemon 123145426120704)>, <Thread(Thread-6, started 123145431375872)>, <Thread(Thread-7, started 123145436631040)>]\n",
      "\n",
      "正在写代码1正在画图1\n",
      "\n",
      "正在写代码2正在画图2\n",
      "\n"
     ]
    }
   ],
   "source": [
    "def multi_thread():\n",
    "    t1 = threading.Thread(target=coding)\n",
    "    t2 = threading.Thread(target=drawing)\n",
    "    \n",
    "    t1.start()\n",
    "    t2.start()\n",
    "    \n",
    "    print(threading.enumerate())\n",
    "\n",
    "multi_thread()\n",
    "# 有三个线程"
   ]
  },
  {
   "cell_type": "markdown",
   "metadata": {},
   "source": [
    "## 查看当前线程数的名字：\n",
    "使用`threading.current_thread()`函数可以看到当前线程的信息。"
   ]
  },
  {
   "cell_type": "code",
   "execution_count": 6,
   "metadata": {},
   "outputs": [
    {
     "name": "stdout",
     "output_type": "stream",
     "text": [
      "正在写代码<Thread(Thread-8, started 123145431375872)>\n",
      "正在画图<Thread(Thread-9, started 123145436631040)>\n",
      "正在写代码<Thread(Thread-8, started 123145431375872)>正在画图<Thread(Thread-9, started 123145436631040)>\n",
      "\n",
      "正在画图<Thread(Thread-9, started 123145436631040)>正在写代码<Thread(Thread-8, started 123145431375872)>\n",
      "\n"
     ]
    }
   ],
   "source": [
    "def coding():\n",
    "    for x in range(3):\n",
    "        print('正在写代码%s' % threading.current_thread())\n",
    "        time.sleep(1)\n",
    "        \n",
    "def drawing():\n",
    "    for x in range(3):\n",
    "        print('正在画图%s' % threading.current_thread())\n",
    "        time.sleep(1)\n",
    "\n",
    "def multi_thread():\n",
    "    t1 = threading.Thread(target=coding)\n",
    "    t2 = threading.Thread(target=drawing)\n",
    "    \n",
    "    t1.start()\n",
    "    t2.start()\n",
    "\n",
    "multi_thread()"
   ]
  },
  {
   "cell_type": "markdown",
   "metadata": {},
   "source": [
    "## 继承自`threading.Thread` 类：\n",
    "为了让线程代码更好地封装。可以使用`threading`模块下的`Thread`类，继承自这个类，然后实现`run`方法，线程就会自动运行`run`方法中的代码。"
   ]
  },
  {
   "cell_type": "code",
   "execution_count": 7,
   "metadata": {},
   "outputs": [
    {
     "name": "stdout",
     "output_type": "stream",
     "text": [
      "正在写代码<CodingThread(Thread-10, started 123145431375872)>\n",
      "正在画图<DrawingThread(Thread-11, started 123145436631040)>\n",
      "正在写代码<CodingThread(Thread-10, started 123145431375872)>\n",
      "正在画图<DrawingThread(Thread-11, started 123145436631040)>\n",
      "正在写代码<CodingThread(Thread-10, started 123145431375872)>\n",
      "正在画图<DrawingThread(Thread-11, started 123145436631040)>\n"
     ]
    }
   ],
   "source": [
    "class CodingThread(threading.Thread):\n",
    "    def run(self):\n",
    "            for x in range(3):\n",
    "                print('正在写代码%s' % threading.current_thread())\n",
    "                time.sleep(1)\n",
    "\n",
    "class DrawingThread(threading.Thread):\n",
    "    def run(self):\n",
    "            for x in range(3):\n",
    "                print('正在画图%s' % threading.current_thread())\n",
    "                time.sleep(1)\n",
    "\n",
    "def main():\n",
    "    t1 = CodingThread()\n",
    "    t2 = DrawingThread()\n",
    "    \n",
    "    t1.start()\n",
    "    t2.start()\n",
    "\n",
    "main()"
   ]
  },
  {
   "cell_type": "markdown",
   "metadata": {},
   "source": [
    "## 多线程共享全局变量的问题：\n",
    "多线程都是同一个进程中运行的。因此在进程中的全局变量所有线程都是可以共享的。这就造成了一个问题，因为现场执行的顺序是无序的。有可能造成数据错误。比如以下代码："
   ]
  },
  {
   "cell_type": "code",
   "execution_count": 8,
   "metadata": {},
   "outputs": [
    {
     "name": "stdout",
     "output_type": "stream",
     "text": [
      "value: 877247\n",
      "value: 1156741\n"
     ]
    }
   ],
   "source": [
    "VALUE = 0\n",
    "def add_value():\n",
    "    global VALUE\n",
    "    for x in range(1000000): #10, 100, 1000就不会出错 \n",
    "        VALUE += 1\n",
    "    print('value: %d' % VALUE)\n",
    "        \n",
    "def main():\n",
    "    for x in range(2):\n",
    "        t = threading.Thread(target=add_value)\n",
    "        t.start()\n",
    "        \n",
    "main()\n",
    "\n",
    "# 结果出错了\n",
    "# 那怎么办？ -> 锁机制"
   ]
  },
  {
   "cell_type": "markdown",
   "metadata": {},
   "source": [
    "## 锁机制（用于会修改全局变量的代码）"
   ]
  },
  {
   "cell_type": "code",
   "execution_count": 9,
   "metadata": {},
   "outputs": [
    {
     "name": "stdout",
     "output_type": "stream",
     "text": [
      "value: 1000000\n",
      "value: 2000000\n"
     ]
    }
   ],
   "source": [
    "VALUE = 0\n",
    "\n",
    "gLock = threading.Lock()\n",
    "\n",
    "def add_value():\n",
    "    global VALUE\n",
    "    gLock.acquire() #上锁\n",
    "    for x in range(1000000): #10, 100, 1000就不会出错 \n",
    "        VALUE += 1\n",
    "    gLock.release() #解锁\n",
    "    print('value: %d' % VALUE)\n",
    "        \n",
    "def main():\n",
    "    for x in range(2):\n",
    "        t = threading.Thread(target=add_value)\n",
    "        t.start()\n",
    "        \n",
    "main()"
   ]
  },
  {
   "cell_type": "markdown",
   "metadata": {},
   "source": [
    "## Lock版本生产者和消费者模式：\n",
    "`生产者（多线程） -> 全局变量 -> 消费者（多线程）`  \n",
    "生产者和消费者模式是多线程开发中常见到的一种模式。生产者的线程专门用来生成一些数据，然后存放到一个中介的变量中。消费者再从这个中间的变量中取出数据进行消费。但是因为要使用中间变量，中间变量经常是一些全局变量，因此需要使用锁来保证数据完整性。以下是使用`threading.Lock`锁实现的“生产者与消费者模式”的一个例子："
   ]
  },
  {
   "cell_type": "code",
   "execution_count": 12,
   "metadata": {},
   "outputs": [],
   "source": [
    "import threading\n",
    "import random\n",
    "import time\n",
    "\n",
    "gMoney = 1000\n",
    "gLock = threading.Lock()\n",
    "gTotalTimes = 10\n",
    "gTimes = 0\n",
    "\n",
    "class Producer(threading.Thread):\n",
    "    def run(self):\n",
    "        global gMoney\n",
    "        global gTimes\n",
    "        while True:\n",
    "            money = random.randint(100, 1000)\n",
    "            gLock.acquire()\n",
    "            if gTimes >= gTotalTimes:\n",
    "                gLock.release()\n",
    "                break\n",
    "            gMoney += money\n",
    "            print('%s生产了%d元钱，剩余%d元钱'% (threading.current_thread(),\n",
    "                                      money, gMoney))\n",
    "            gTimes += 1\n",
    "            gLock.release()\n",
    "            time.sleep(0.5) #防止看起来太乱了\n",
    "    \n",
    "class Consumer(threading.Thread):\n",
    "    def run(self):\n",
    "        global gMoney\n",
    "        while True:\n",
    "            money = random.randint(100, 1000)\n",
    "            gLock.acquire()\n",
    "            if gMoney >= money:\n",
    "                gMoney -= money\n",
    "                print('%s消费了%d元钱，剩余%d元钱'% (threading.current_thread(),\n",
    "                                            money, gMoney))\n",
    "            else:\n",
    "                if gTimes >= gTotalTimes:\n",
    "                    gLock.release()\n",
    "                    break\n",
    "                print('%s消费者准备消费%d元钱，剩余%d元钱，不足！' % (\n",
    "                threading.current_thread(), money, gMoney))\n",
    "            gLock.release()\n",
    "            time.sleep(0.5)\n",
    "\n",
    "def main():\n",
    "    for x in range(3):\n",
    "        t = Consumer(name=\"消费者线程%d\" % x)\n",
    "        t.start()\n",
    "    for x in range(5):\n",
    "        t = Producer(name=\"生产者线程%d\" % x)\n",
    "        t.start()"
   ]
  },
  {
   "cell_type": "code",
   "execution_count": 13,
   "metadata": {
    "scrolled": false
   },
   "outputs": [
    {
     "name": "stdout",
     "output_type": "stream",
     "text": [
      "<Consumer(消费者线程0, started 123145431375872)>消费了409元钱，剩余591元钱\n",
      "<Consumer(消费者线程1, started 123145436631040)>消费者准备消费910元钱，剩余591元钱，不足！\n",
      "<Consumer(消费者线程2, started 123145441886208)>消费了428元钱，剩余163元钱\n",
      "<Producer(生产者线程0, started 123145447141376)>生产了535元钱，剩余698元钱\n",
      "<Producer(生产者线程1, started 123145452396544)>生产了334元钱，剩余1032元钱\n",
      "<Producer(生产者线程2, started 123145457651712)>生产了236元钱，剩余1268元钱\n",
      "<Producer(生产者线程3, started 123145462906880)>生产了147元钱，剩余1415元钱\n",
      "<Producer(生产者线程4, started 123145468162048)>生产了961元钱，剩余2376元钱\n",
      "<Consumer(消费者线程0, started 123145431375872)>消费了531元钱，剩余1845元钱\n",
      "<Consumer(消费者线程1, started 123145436631040)>消费了946元钱，剩余899元钱\n",
      "<Consumer(消费者线程2, started 123145441886208)>消费了737元钱，剩余162元钱\n",
      "<Producer(生产者线程0, started 123145447141376)>生产了389元钱，剩余551元钱\n",
      "<Producer(生产者线程1, started 123145452396544)>生产了767元钱，剩余1318元钱\n",
      "<Producer(生产者线程2, started 123145457651712)>生产了325元钱，剩余1643元钱\n",
      "<Producer(生产者线程3, started 123145462906880)>生产了504元钱，剩余2147元钱\n",
      "<Producer(生产者线程4, started 123145468162048)>生产了296元钱，剩余2443元钱\n",
      "<Consumer(消费者线程0, started 123145431375872)>消费了526元钱，剩余1917元钱\n",
      "<Consumer(消费者线程1, started 123145436631040)>消费了550元钱，剩余1367元钱\n",
      "<Consumer(消费者线程2, started 123145441886208)>消费了326元钱，剩余1041元钱\n",
      "<Consumer(消费者线程0, started 123145431375872)>消费了602元钱，剩余439元钱\n",
      "<Consumer(消费者线程1, started 123145436631040)>消费了144元钱，剩余295元钱\n"
     ]
    }
   ],
   "source": [
    "main()"
   ]
  },
  {
   "cell_type": "markdown",
   "metadata": {},
   "source": [
    "## Condition版的生产者与消费者模式：\n",
    "`Lock`版本的生产者与消费者模式可以正常运行。但是存在一个不足，在消费者中，总是通过该`while True`死循环并且上锁的方式去判断钱够不够。上锁是一个很耗费CPU资源的行为。因此这种方式不是最好的。还有一种更好的方式便是使用`threading.Condition`来实现。`threading.Condition`可以再没有数据的时候处于阻塞的等待状态。一旦有核实的数据了，还可以使用`notify`相关函数来统治其他处于等待的线程。这样就可以不用做一些无用的上锁和解锁的操作。可以提高程序的性能。首先对`threading.Condition`相关的函数做个介绍,`threading.Condition`类似(继承于）`threading.Lock`，可以再修改全局数据的时候进行上锁，也可以在修改完毕后进行解锁。以下将一些常用的函数做个简单介绍：\n",
    "1. `acquire`: 上锁\n",
    "2. `release`: 解锁\n",
    "3. `wait`: 将当前线程处于等待状态，并且会释放锁。可以被其他线程使用`notify`和`notify_all`函数唤醒。被唤醒后将继续等待上锁，上锁后继续执行下面的代码。\n",
    "4. `notify`: 统治某个正在等待的线程，默认是第一个等待的线程。\n",
    "5. `notify_all`: 统治所有正在等待的线程。`notify`和`notify`不会释放所。并且需要在`release`之前调用。  \n",
    "以下是使用`threading.Condition`锁实现的“生产者与消费者模式”的一个例子："
   ]
  },
  {
   "cell_type": "code",
   "execution_count": 14,
   "metadata": {},
   "outputs": [],
   "source": [
    "import threading\n",
    "import random\n",
    "import time\n",
    "\n",
    "gMoney = 1000\n",
    "gCondition = threading.Condition()\n",
    "gTotalTimes = 10\n",
    "gTimes = 0\n",
    "\n",
    "class Producer(threading.Thread):\n",
    "    def run(self):\n",
    "        global gMoney\n",
    "        global gTimes\n",
    "        while True:\n",
    "            money = random.randint(100, 1000)\n",
    "            gCondition.acquire()\n",
    "            if gTimes >= gTotalTimes:\n",
    "                gCondition.release()\n",
    "                break\n",
    "            gMoney += money\n",
    "            print('%s生产了%d元钱，剩余%d元钱'% (threading.current_thread(),\n",
    "                                      money, gMoney))\n",
    "            gTimes += 1\n",
    "            gCondition.notify_all() #唤醒所有\n",
    "            gCondition.release()\n",
    "            time.sleep(0.5)\n",
    "    \n",
    "class Consumer(threading.Thread):\n",
    "    def run(self):\n",
    "        global gMoney\n",
    "        while True:\n",
    "            money = random.randint(100, 1000)\n",
    "            gCondition.acquire()\n",
    "            while gMoney < money: #这个很重要，if的话，苏醒后再等待后，钱又不够了\n",
    "                if gTimes >= gTotalTimes:\n",
    "                    gCondition.release()\n",
    "                    return #将整个函数立马返回，两个while都会被break\n",
    "                print('%s消费者准备消费%d元钱，剩余%d元钱，不足！' % (\n",
    "                threading.current_thread(), money, gMoney))\n",
    "                gCondition.wait() #等待\n",
    "            gMoney -= money\n",
    "            print('%s消费了%d元钱，剩余%d元钱'% (threading.current_thread(),\n",
    "                                            money, gMoney))\n",
    "            gCondition.release()\n",
    "            time.sleep(0.5)\n",
    "\n",
    "def main():\n",
    "    for x in range(3):\n",
    "        t = Consumer(name=\"消费者线程%d\" % x)\n",
    "        t.start()\n",
    "    for x in range(5):\n",
    "        t = Producer(name=\"生产者线程%d\" % x)\n",
    "        t.start()"
   ]
  },
  {
   "cell_type": "code",
   "execution_count": 16,
   "metadata": {},
   "outputs": [
    {
     "name": "stdout",
     "output_type": "stream",
     "text": [
      "<Consumer(消费者线程0, started 123145431375872)>消费了406元钱，剩余594元钱\n",
      "<Consumer(消费者线程1, started 123145436631040)>消费者准备消费797元钱，剩余594元钱，不足！\n",
      "<Consumer(消费者线程2, started 123145441886208)>消费了375元钱，剩余219元钱\n",
      "<Producer(生产者线程0, started 123145447141376)>生产了736元钱，剩余955元钱\n",
      "<Consumer(消费者线程1, started 123145436631040)>消费了797元钱，剩余158元钱\n",
      "<Producer(生产者线程1, started 123145452396544)>生产了433元钱，剩余591元钱\n",
      "<Producer(生产者线程2, started 123145457651712)>生产了260元钱，剩余851元钱\n",
      "<Producer(生产者线程3, started 123145462906880)>生产了601元钱，剩余1452元钱\n",
      "<Producer(生产者线程4, started 123145468162048)>生产了305元钱，剩余1757元钱\n",
      "<Consumer(消费者线程0, started 123145431375872)>消费了581元钱，剩余1176元钱\n",
      "<Consumer(消费者线程2, started 123145441886208)>消费了583元钱，剩余593元钱\n",
      "<Producer(生产者线程0, started 123145447141376)>生产了133元钱，剩余726元钱\n",
      "<Consumer(消费者线程1, started 123145436631040)>消费了548元钱，剩余178元钱\n",
      "<Producer(生产者线程1, started 123145452396544)>生产了279元钱，剩余457元钱\n",
      "<Producer(生产者线程2, started 123145457651712)>生产了328元钱，剩余785元钱\n",
      "<Producer(生产者线程3, started 123145462906880)>生产了842元钱，剩余1627元钱\n",
      "<Producer(生产者线程4, started 123145468162048)>生产了505元钱，剩余2132元钱\n",
      "<Consumer(消费者线程0, started 123145431375872)>消费了577元钱，剩余1555元钱\n",
      "<Consumer(消费者线程2, started 123145441886208)>消费了247元钱，剩余1308元钱\n",
      "<Consumer(消费者线程1, started 123145436631040)>消费了580元钱，剩余728元钱\n",
      "<Consumer(消费者线程0, started 123145431375872)>消费了426元钱，剩余302元钱\n",
      "<Consumer(消费者线程0, started 123145431375872)>消费了245元钱，剩余57元钱\n"
     ]
    }
   ],
   "source": [
    "main()"
   ]
  },
  {
   "cell_type": "markdown",
   "metadata": {},
   "source": [
    "## Queue线程安全队列：\n",
    "在线程中，访问一些全局变量，加锁是一个经常的过程。如果你是想把一些数据存储到某个队列中，那么Pyhton内置了一个线程安全的模块叫做`queue`模块。Python中的`queue`模块中提供了同步的、线程安全的队列类，包括FIFO(先进先出）队列Queue，LIFO（后入先出）队列LifoQueue。这些队列都实现了锁原语（可以理解为原子操作，即要么不做，要么都做完），能够在多线程中直接使用。可以使用队列来实现线程的同步。相关的函数如下：\n",
    "1. 初始化Queue(maxsize): 创建一个先进先出的队列。\n",
    "2. qsize(): 返回队列的大小。\n",
    "3. empty(): 判断队列是否为空。\n",
    "4. full(): 判断队列是否满了。\n",
    "5. get(): 从队列中取最后一个数据。\n",
    "6. put(): 将一个数据放在队列中。"
   ]
  },
  {
   "cell_type": "code",
   "execution_count": 28,
   "metadata": {},
   "outputs": [
    {
     "name": "stdout",
     "output_type": "stream",
     "text": [
      "2\n",
      "False\n",
      "False\n",
      "1\n"
     ]
    }
   ],
   "source": [
    "from queue import Queue\n",
    "\n",
    "q = Queue(4)\n",
    "q.put(1)\n",
    "q.put(2)\n",
    "\n",
    "print(q.qsize())\n",
    "print(q.empty())\n",
    "print(q.full())\n",
    "print(q.get())"
   ]
  },
  {
   "cell_type": "code",
   "execution_count": 29,
   "metadata": {},
   "outputs": [
    {
     "name": "stdout",
     "output_type": "stream",
     "text": [
      "0\n",
      "1\n",
      "2\n",
      "3\n"
     ]
    }
   ],
   "source": [
    "q = Queue(4)\n",
    "\n",
    "for x in range(4):\n",
    "    q.put(x)\n",
    "\n",
    "for x in range(4):\n",
    "    print(q.get()) #先进先出"
   ]
  },
  {
   "cell_type": "code",
   "execution_count": 35,
   "metadata": {},
   "outputs": [],
   "source": [
    "# block操作\n",
    "# q.get(block=True) #如果队列中没有值，会一直阻塞\n",
    "# q.put(block=True) #如果队列中满了，会一直阻塞\n",
    "\n",
    "def set_value(q):\n",
    "    index = 0\n",
    "    while True:\n",
    "        q.put(index)\n",
    "        index += 1\n",
    "        time.sleep(3)\n",
    "        \n",
    "def get_value(q):\n",
    "    while True:\n",
    "        print(q.get())\n",
    "\n",
    "def main():\n",
    "    q = Queue(4)\n",
    "    t1 = threading.Thread(target=set_value, args=[q]) #传递参数\n",
    "    t2 = threading.Thread(target=get_value, args=[q]) #传递参数\n",
    "    \n",
    "    t1.start()\n",
    "    t2.start()"
   ]
  },
  {
   "cell_type": "code",
   "execution_count": 36,
   "metadata": {},
   "outputs": [
    {
     "name": "stdout",
     "output_type": "stream",
     "text": [
      "0\n",
      "1\n",
      "2\n",
      "3\n",
      "4\n",
      "5\n",
      "6\n",
      "7\n",
      "8\n",
      "9\n",
      "10\n",
      "11\n",
      "12\n",
      "13\n",
      "14\n",
      "15\n",
      "16\n",
      "17\n",
      "18\n",
      "19\n",
      "20\n",
      "21\n",
      "22\n",
      "23\n",
      "24\n",
      "25\n",
      "26\n",
      "27\n",
      "28\n",
      "29\n",
      "30\n",
      "31\n",
      "32\n"
     ]
    }
   ],
   "source": [
    "main()"
   ]
  },
  {
   "cell_type": "code",
   "execution_count": null,
   "metadata": {},
   "outputs": [],
   "source": []
  }
 ],
 "metadata": {
  "kernelspec": {
   "display_name": "Python 3",
   "language": "python",
   "name": "python3"
  },
  "language_info": {
   "codemirror_mode": {
    "name": "ipython",
    "version": 3
   },
   "file_extension": ".py",
   "mimetype": "text/x-python",
   "name": "python",
   "nbconvert_exporter": "python",
   "pygments_lexer": "ipython3",
   "version": "3.6.5"
  }
 },
 "nbformat": 4,
 "nbformat_minor": 2
}
