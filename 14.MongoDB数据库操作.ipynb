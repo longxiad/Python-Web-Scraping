{
 "cells": [
  {
   "cell_type": "markdown",
   "metadata": {},
   "source": [
    "# MongoDB数据库操作\n",
    "```MongoDB``` 是一个基于分布式文件存储的 ```NoSQL``` 数据库。在处理海量数据的时候会比 ```MySQL``` 更有优势。爬虫如果上了一个量级，可能就会比较推荐使用 ```MongoDB``` ，淡然没有上量的数据也完全可以使用 ```MongoDB``` 来存储数据。因此学会使用 ```MongoDB``` 也是爬虫开发工程师必须掌握的一个技能。"
   ]
  },
  {
   "cell_type": "markdown",
   "metadata": {},
   "source": [
    "## 安装\n",
    " 1. ```MongoDB```: 下载Community Server  \n",
    " https://www.mongodb.com/download-center#atlas  \n",
    " 或者 ```brew install mongodb```\n",
    " 2. ```MongoDB Compass```  \n",
    " https://www.mongodb.com/products/compass?_bt=205021190811&_bk=mongodb%20compass&_bm=e&_bn=g&utm_source=google&utm_campaign=Americas_US_CorpEntOnly_Brand_Alpha_FM&utm_keyword=mongodb%20compass&utm_device=c&utm_network=g&utm_medium=cpc&utm_creative=205021190811&utm_matchtype=e&_bt=205021190811&_bk=mongodb%20compass&_bm=e&_bn=g&jmp=search&gclid=EAIaIQobChMI6OqOscSp3QIVSxtpCh0p8wO-EAAYASABEgLwsvD_BwE"
   ]
  },
  {
   "cell_type": "markdown",
   "metadata": {},
   "source": [
    "## 运行 ```MongoDB```\n",
    "1. 创建数据目录：\n",
    "   启动 ```MongoDB``` 之前，首先要给他知道丁一个数据存储的路径。比如我在 ```MongoDB``` 的安装路径下创建一个 ```data``` 文件夹，专门用来存储数据的。\n",
    "2. 把 ```MongoDB``` 的 ```bin``` 目录加入到环境变量中。方便后期调用。\n",
    "https://blog.csdn.net/xiangzhihong8/article/details/78423983\n",
    "3. 执行命令 ```mongod --dbpath```"
   ]
  },
  {
   "cell_type": "markdown",
   "metadata": {},
   "source": [
    "## 连接 ```MongoDB```\n",
    "在环境变量设置好的前提下，在bin文件下使用以下命令 ```mongo``` 就可以进入到 ```mongo``` 的操作终端了。  \n",
    "```/Users/Daiii/mongodb-osx-x86_64-4.0.2/bin/mongod```"
   ]
  },
  {
   "cell_type": "markdown",
   "metadata": {},
   "source": [
    "## 使用 ```Compass``` 软件连接 ```MongoDB```:\n",
    "```Compass`` 是一个图形化的操作 ```MongoDB``` 的客户端。使用他来操作会更加方便。"
   ]
  },
  {
   "cell_type": "markdown",
   "metadata": {},
   "source": [
    "## 将 ```MongoDB``` 制作成服务：\n",
    "启动 ```mongodb``` 后，如果想让 ```mongodb``` 一直运行，那么这个终端便不能关闭。而且每次运行的时候还需要指定 ```data``` 的路径。因此我们可以将 ```mongodb``` 制作成一个服务，以后就通过一行命令就可以运行了。以下将讲解如何制作服务：\n",
    "1. 创建配置文件：在 ```mongodb``` 安装的路径下创建配置文件 ```mongod.cfg``` (路径和名字不是必须和我这的一样），然后在配置文件中添加以下代码：\n",
    "```\n",
    "logpath = /Users/Daiii/mongodb-osx-x86_64-4.0.2/log/mongod.log #数据库路径\n",
    "dbpath = /Users/Daiii/mongodb-osx-x86_64-4.0.2/data #日志输出文件路径\n",
    "logappend=true #日志输出方式\n",
    "fork=true #后台运行\n",
    "```\n",
    "```logpath```是日志的路径。 ```dbpath``` 是 ```mongodb``` 数据库的存储路径。\n",
    "2. 安装 ```mongodb``` 服务：  \n",
    "使用以下命令即可将 ```mongodb``` 安装成一个服务：\n",
    "```\n",
    "mongod --config \"cfg配置文件所在路径\"\n",
    "比如：\n",
    "mongod --config /Users/Daiii/mongodb-osx-x86_64-4.0.2/mongod.cfg\n",
    "```\n",
    "\n",
    "\\----------------------------------------------------------------------  \n",
    "1和2也可以合并为：  \n",
    "1. cd ~/mongodb-osx-x86_64-4.0.2\n",
    "2. mongod --dbpath data --logpath log/mongod.log --logappend --fork\n",
    "    - -port 可以选择端口（这里没选择默认是27017）\n",
    "\t- dbpath + 加入数据库存储路径\n",
    "\t- logpath + 加入日志路径\n",
    "\t- logappend  日志文件自动累加，而\t\t\t      不是覆盖\n",
    "\t- fork 使用而且后台启动\n",
    "    \n",
    "\\----------------------------------------------------------------------\n",
    "3. 添加环境变量：\n",
    "我是用的是zsh，所以在用户目录下的.zshrc文件中底部，添加如下内容：  \n",
    "第一步：~ vim .zshrc  \n",
    "第二步： 添加  \n",
    "MONGODB_HOME=/Users/liurenkui/myLibrary/mongodb-osx-x86_64-3.4.7\n",
    "export PATH=\".:\\$PATH:\\$MONGODB_HOME/bin\"\n",
    "\n",
    "3. 启动 ```mongodb``` ：   \n",
    "输入```mongo```\n",
    "4. 关闭 ```mongodb``` ： \n",
    "    1. 退出但是后台运行：  \n",
    "    输入```exit```\n",
    "    2. 连同后台一起关闭：  \n",
    "    输入```use admin```  \n",
    "    然后```db.shutdownServer()```  \n",
    "    最后```exit```"
   ]
  },
  {
   "cell_type": "markdown",
   "metadata": {},
   "source": [
    "## ```MongoDB``` 概念介绍：\n",
    " SQL术语/概念    | MongoDB术语/概念 | 解释/说明 \n",
    " -------------  | -------------- | ------------ \n",
    " database       | database       | 数据库\n",
    " table          | collection     | 数据库表/集合\n",
    " row            | document       | 数据记录行/文档\n",
    " column         | field          | 数据字段/域\n",
    " index          | index          | 索引\n",
    " joins          | joins          | 表连接,MongoDB不支持\n",
    " primary key    | primay key     | 主键,MongoDB自动将_id字段设置为主键\n"
   ]
  },
  {
   "cell_type": "markdown",
   "metadata": {},
   "source": [
    "## ```MongoDB``` 三元素\n",
    "三元素：数据库、集合、文档。\n",
    "1. 文档（document）：就是关系型数据库中的一行。文档是一个对象，由键值对构造，是 ```json``` 的扩展形式：\n",
    "```\n",
    "{'name': 'abc', 'gender': '1'}\n",
    "```\n",
    "2. 集合（collection）：就是关系型数据库中的表。可以存储多个文档，结构可以不固定。如可以存储如下文档在一个集合中：\n",
    "```\n",
    "{'name': 'abc', 'gender': '1'}\n",
    "{'name': 'xxx', 'age': 18}\n",
    "{'title': 'yyy', 'price': 20.9}\n",
    "```"
   ]
  },
  {
   "cell_type": "markdown",
   "metadata": {},
   "source": [
    "## ```MongoDB``` 基本命令操作：\n",
    "1. ```db``` : 查看当前的数据库。\n",
    "2. ```show dbs``` : 查看所有的数据库。\n",
    "3. ```use 数据库``` : 切换数据库。如果数据库不存在，则创建。\n",
    "4. ```db.dropDatabase()``` : 删除当前指向的数据库。\n",
    "5. ```db.集合名.insert(value)``` : 添加数据到指定的集合中。\n",
    "6. ```db.集合名.find()``` : 从指定的集合中查找数据。"
   ]
  },
  {
   "cell_type": "markdown",
   "metadata": {},
   "source": [
    "## Python操作 ```MongoDB``` :\n",
    "### 安装 ```pymongo```\n",
    "要用 ```python``` 操作 ```mongod``` ,必须下载一个驱动程序，这个驱动程序就是 ```pymongo```:  \n",
    "```pip install pymongo```\n"
   ]
  },
  {
   "cell_type": "code",
   "execution_count": 4,
   "metadata": {},
   "outputs": [],
   "source": [
    "import pymongo"
   ]
  },
  {
   "cell_type": "code",
   "execution_count": 16,
   "metadata": {},
   "outputs": [
    {
     "data": {
      "text/plain": [
       "<pymongo.results.InsertOneResult at 0x105045a88>"
      ]
     },
     "execution_count": 16,
     "metadata": {},
     "output_type": "execute_result"
    }
   ],
   "source": [
    "# 获取连接mongodb的对象\n",
    "client = pymongo.MongoClient(\"127.0.0.1\", port=27017)\n",
    "\n",
    "# 获取数据库（如果没有zhihu这个数据库，也没有关系）\n",
    "db = client.zhihu\n",
    "\n",
    "# 获取数据库中的集合（也就是mysql中的表）\n",
    "collection = db.qa"
   ]
  },
  {
   "cell_type": "markdown",
   "metadata": {},
   "source": [
    "## 数据类型：\n",
    " 类型    | 说明\n",
    " -------------  | -------------- \n",
    " Object ID       | 文档ID    \n",
    " String          | 字符串，最常用，必须是有效的UTF-8    \n",
    " Boolean            | 储存一个布尔值，true或false      \n",
    " Integer         | 整数可以使32位或64位，这取决于服务器       \n",
    " Double          | 存储浮点值          \n",
    " Arrays          | 数组或列表，多个值存储到一个键        \n",
    " Object    | 用于嵌入式的文档，即一个值为一个文档\n",
    " Null | 存储Null值\n",
    " Timestamp | 时间戳，表示从1970-1-1到现在的总秒数\n",
    " Data | 存储当前日期或时间的UNIX时间格式\n"
   ]
  },
  {
   "cell_type": "markdown",
   "metadata": {},
   "source": [
    "## 操作`MongoDB`\n",
    "### 1.写入数据"
   ]
  },
  {
   "cell_type": "code",
   "execution_count": 29,
   "metadata": {},
   "outputs": [
    {
     "data": {
      "text/plain": [
       "<pymongo.results.InsertOneResult at 0x10508ae48>"
      ]
     },
     "execution_count": 29,
     "metadata": {},
     "output_type": "execute_result"
    }
   ],
   "source": [
    "# insert_one方法：写入一条\n",
    "collection.insert_one({\"username\": \"aaa\"})"
   ]
  },
  {
   "cell_type": "code",
   "execution_count": 18,
   "metadata": {},
   "outputs": [
    {
     "data": {
      "text/plain": [
       "<pymongo.results.InsertManyResult at 0x10505ed08>"
      ]
     },
     "execution_count": 18,
     "metadata": {},
     "output_type": "execute_result"
    }
   ],
   "source": [
    "# insert_many方法：写入多条\n",
    "collection.insert_many([\n",
    "    {\n",
    "        \"username\": \"aaa\",\n",
    "        \"age\": 18\n",
    "    },\n",
    "    {\n",
    "        \"username\": \"bbb\",\n",
    "        \"age\": 20\n",
    "    }\n",
    "])"
   ]
  },
  {
   "cell_type": "markdown",
   "metadata": {},
   "source": [
    "### 2.查找数据"
   ]
  },
  {
   "cell_type": "code",
   "execution_count": 22,
   "metadata": {},
   "outputs": [
    {
     "name": "stdout",
     "output_type": "stream",
     "text": [
      "{'_id': ObjectId('5b94994322009491ec23dd13'), 'username': 'aaa', 'age': 18}\n",
      "{'_id': ObjectId('5b94994322009491ec23dd14'), 'username': 'bbb', 'age': 20}\n"
     ]
    }
   ],
   "source": [
    "# find方法：获取集合中所有的数据\n",
    "cursor = collection.find()\n",
    "for x in cursor:\n",
    "    print(x)"
   ]
  },
  {
   "cell_type": "code",
   "execution_count": 23,
   "metadata": {},
   "outputs": [
    {
     "name": "stdout",
     "output_type": "stream",
     "text": [
      "{'_id': ObjectId('5b94994322009491ec23dd13'), 'username': 'aaa', 'age': 18}\n"
     ]
    }
   ],
   "source": [
    "# find_one方法：获取集合中一条数据\n",
    "result = collection.find_one()\n",
    "print(result)"
   ]
  },
  {
   "cell_type": "code",
   "execution_count": 26,
   "metadata": {},
   "outputs": [
    {
     "name": "stdout",
     "output_type": "stream",
     "text": [
      "{'_id': ObjectId('5b94994322009491ec23dd13'), 'username': 'aaa', 'age': 18}\n"
     ]
    }
   ],
   "source": [
    "# 指定条件\n",
    "result = collection.find_one({\"age\": 18})\n",
    "print(result)"
   ]
  },
  {
   "cell_type": "markdown",
   "metadata": {},
   "source": [
    "### 3.更新数据"
   ]
  },
  {
   "cell_type": "code",
   "execution_count": 28,
   "metadata": {},
   "outputs": [
    {
     "data": {
      "text/plain": [
       "<pymongo.results.UpdateResult at 0x10507e7c8>"
      ]
     },
     "execution_count": 28,
     "metadata": {},
     "output_type": "execute_result"
    }
   ],
   "source": [
    "# update_one方法：更新一条数据\n",
    "# 前面是条件，后面是更新内容\n",
    "collection.update_one({\"username\": \"bbb\"}, \n",
    "                      {\"$set\": {\"username\": \"ccc\"}})"
   ]
  },
  {
   "cell_type": "code",
   "execution_count": 30,
   "metadata": {},
   "outputs": [
    {
     "data": {
      "text/plain": [
       "<pymongo.results.UpdateResult at 0x1050a8788>"
      ]
     },
     "execution_count": 30,
     "metadata": {},
     "output_type": "execute_result"
    }
   ],
   "source": [
    "# update_many方法：更新多条数据\n",
    "collection.update_many({\"username\": \"aaa\"}, \n",
    "                       {\"$set\": {\"username\": \"bbb\"}})"
   ]
  },
  {
   "cell_type": "markdown",
   "metadata": {},
   "source": [
    "### 4.删除数据"
   ]
  },
  {
   "cell_type": "code",
   "execution_count": 32,
   "metadata": {},
   "outputs": [
    {
     "data": {
      "text/plain": [
       "<pymongo.results.DeleteResult at 0x10507e688>"
      ]
     },
     "execution_count": 32,
     "metadata": {},
     "output_type": "execute_result"
    }
   ],
   "source": [
    "# delete_one方法：删除一条数据\n",
    "collection.delete_one({\"username\": \"ccc\"}) "
   ]
  },
  {
   "cell_type": "code",
   "execution_count": 34,
   "metadata": {},
   "outputs": [
    {
     "data": {
      "text/plain": [
       "<pymongo.results.DeleteResult at 0x1050a83c8>"
      ]
     },
     "execution_count": 34,
     "metadata": {},
     "output_type": "execute_result"
    }
   ],
   "source": [
    "# delete_many方法：删除多条数据\n",
    "collection.delete_many({\"username\": \"bbb\"}) "
   ]
  },
  {
   "cell_type": "code",
   "execution_count": null,
   "metadata": {},
   "outputs": [],
   "source": []
  }
 ],
 "metadata": {
  "kernelspec": {
   "display_name": "Python 3",
   "language": "python",
   "name": "python3"
  },
  "language_info": {
   "codemirror_mode": {
    "name": "ipython",
    "version": 3
   },
   "file_extension": ".py",
   "mimetype": "text/x-python",
   "name": "python",
   "nbconvert_exporter": "python",
   "pygments_lexer": "ipython3",
   "version": "3.6.5"
  }
 },
 "nbformat": 4,
 "nbformat_minor": 2
}
