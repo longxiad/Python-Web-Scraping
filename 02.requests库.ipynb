{
 "cells": [
  {
   "cell_type": "markdown",
   "metadata": {},
   "source": [
    "# requests库 \n",
    "(比urllib库更方便)\n",
    "1. 发送get请求\n",
    "2. 发送post请求\n",
    "3. 使用代理\n",
    "4. cookie\n",
    "5. 处理不信任的SSL证书"
   ]
  },
  {
   "cell_type": "markdown",
   "metadata": {},
   "source": [
    "## 1.发送get请求:  \n",
    "发送get请求，直接调用'requests.get'就可以了，想要发送什么类型的请求，就调用什么方法。\n",
    "\n",
    "### response的一些属性\n",
    "1. 查看响应内容，response.text返回的是Unicode格式的数据，统会根据自己猜测进行解码  \n",
    "print(type(response.text)) #unicode字符串\n",
    "print(response.text)\n",
    "2. 查看响应内容，response.content返回的字符流数据  \n",
    "print(response.content) #没有经过解码的 bytes\n",
    "3. 可以根据自己给的方式进行解码  \n",
    "print(response.content.decode('utf-8'))\n",
    "4. 查看完整的url地址  \n",
    "print(response.url)\n",
    "5. 查看响应头部字符编码  \n",
    "print(response.encoding)\n",
    "6. 查看响应码  \n",
    "print(response.status_code)\n",
    "\n",
    "### response.text 和 response.content的区别：\n",
    "1. response.content:  \n",
    "这个是直接从网络上面抓取的数据，没有经过任何解码，所以是一个bytes类型。其实在硬盘上和在网络上传输的字符串都是bytes类型。\n",
    "2. response.text:  \n",
    "这个是str的数据类型，是requests库将将response.content进行解码的字符串，解码需要制定一个编码方式，requests会根据自己的猜测来判断编码的方式，所以有时候可能会猜测错误，就换导致解码产生乱码，这时候就应该使用'response.content.decode('utf-8')'或者起码编码方式进行手动解码。\n",
    "\n",
    "## 2.发送post请求:\n",
    "发送post请求非常简单，直接调用'requests.post'方法就可以了.  \n",
    "如果返回的是json数据，那么可以调用'response.json()'来讲json字符串转换为字典或者列表。\n",
    "\n",
    "## 3.使用代理：\n",
    "在请求方法中，传递'proxies'参数就可以了。\n",
    "\n",
    "## 4.处理cookies:\n",
    "如果想要在多次请求中共享cookie，那么应该使用session \n",
    "\n",
    "## 5. 处理不信任的SSL证书\n",
    "在请求方法中，传递'verify=False'参数就可以了"
   ]
  },
  {
   "cell_type": "code",
   "execution_count": 1,
   "metadata": {},
   "outputs": [],
   "source": [
    "import requests"
   ]
  },
  {
   "cell_type": "markdown",
   "metadata": {},
   "source": [
    "## 1.发送GET请求"
   ]
  },
  {
   "cell_type": "code",
   "execution_count": 26,
   "metadata": {},
   "outputs": [
    {
     "name": "stdout",
     "output_type": "stream",
     "text": [
      "<class 'str'>\n",
      "<!DOCTYPE html>\r\n",
      "<!--STATUS OK--><html> <head><meta http-equiv=content-type content=text/html;charset=utf-8><meta http-equiv=X-UA-Compatible content=IE=Edge><meta content=always name=referrer><link rel=stylesheet type=text/css href=http://s1.bdstatic.com/r/www/cache/bdorz/baidu.min.css><title>ç¾åº¦ä¸ä¸ï¼ä½ å°±ç¥é</title></head> <body link=#0000cc> <div id=wrapper> <div id=head> <div class=head_wrapper> <div class=s_form> <div class=s_form_wrapper> <div id=lg> <img hidefocus=true src=//www.baidu.com/img/bd_logo1.png width=270 height=129> </div> <form id=form name=f action=//www.baidu.com/s class=fm> <input type=hidden name=bdorz_come value=1> <input type=hidden name=ie value=utf-8> <input type=hidden name=f value=8> <input type=hidden name=rsv_bp value=1> <input type=hidden name=rsv_idx value=1> <input type=hidden name=tn value=baidu><span class=\"bg s_ipt_wr\"><input id=kw name=wd class=s_ipt value maxlength=255 autocomplete=off autofocus></span><span class=\"bg s_btn_wr\"><input type=submit id=su value=ç¾åº¦ä¸ä¸ class=\"bg s_btn\"></span> </form> </div> </div> <div id=u1> <a href=http://news.baidu.com name=tj_trnews class=mnav>æ°é»</a> <a href=http://www.hao123.com name=tj_trhao123 class=mnav>hao123</a> <a href=http://map.baidu.com name=tj_trmap class=mnav>å°å¾</a> <a href=http://v.baidu.com name=tj_trvideo class=mnav>è§é¢</a> <a href=http://tieba.baidu.com name=tj_trtieba class=mnav>è´´å§</a> <noscript> <a href=http://www.baidu.com/bdorz/login.gif?login&amp;tpl=mn&amp;u=http%3A%2F%2Fwww.baidu.com%2f%3fbdorz_come%3d1 name=tj_login class=lb>ç»å½</a> </noscript> <script>document.write('<a href=\"http://www.baidu.com/bdorz/login.gif?login&tpl=mn&u='+ encodeURIComponent(window.location.href+ (window.location.search === \"\" ? \"?\" : \"&\")+ \"bdorz_come=1\")+ '\" name=\"tj_login\" class=\"lb\">ç»å½</a>');</script> <a href=//www.baidu.com/more/ name=tj_briicon class=bri style=\"display: block;\">æ´å¤äº§å</a> </div> </div> </div> <div id=ftCon> <div id=ftConw> <p id=lh> <a href=http://home.baidu.com>å",
      "³äºç¾åº¦</a> <a href=http://ir.baidu.com>About Baidu</a> </p> <p id=cp>&copy;2017&nbsp;Baidu&nbsp;<a href=http://www.baidu.com/duty/>ä½¿ç¨ç¾åº¦åå¿",
      "è¯»</a>&nbsp; <a href=http://jianyi.baidu.com/ class=cp-feedback>æè§åé¦</a>&nbsp;äº¬ICPè¯030173å·&nbsp; <img src=//www.baidu.com/img/gs.gif> </p> </div> </div> </div> </body> </html>\r\n",
      "\n",
      "b'<!DOCTYPE html>\\r\\n<!--STATUS OK--><html> <head><meta http-equiv=content-type content=text/html;charset=utf-8><meta http-equiv=X-UA-Compatible content=IE=Edge><meta content=always name=referrer><link rel=stylesheet type=text/css href=http://s1.bdstatic.com/r/www/cache/bdorz/baidu.min.css><title>\\xe7\\x99\\xbe\\xe5\\xba\\xa6\\xe4\\xb8\\x80\\xe4\\xb8\\x8b\\xef\\xbc\\x8c\\xe4\\xbd\\xa0\\xe5\\xb0\\xb1\\xe7\\x9f\\xa5\\xe9\\x81\\x93</title></head> <body link=#0000cc> <div id=wrapper> <div id=head> <div class=head_wrapper> <div class=s_form> <div class=s_form_wrapper> <div id=lg> <img hidefocus=true src=//www.baidu.com/img/bd_logo1.png width=270 height=129> </div> <form id=form name=f action=//www.baidu.com/s class=fm> <input type=hidden name=bdorz_come value=1> <input type=hidden name=ie value=utf-8> <input type=hidden name=f value=8> <input type=hidden name=rsv_bp value=1> <input type=hidden name=rsv_idx value=1> <input type=hidden name=tn value=baidu><span class=\"bg s_ipt_wr\"><input id=kw name=wd class=s_ipt value maxlength=255 autocomplete=off autofocus></span><span class=\"bg s_btn_wr\"><input type=submit id=su value=\\xe7\\x99\\xbe\\xe5\\xba\\xa6\\xe4\\xb8\\x80\\xe4\\xb8\\x8b class=\"bg s_btn\"></span> </form> </div> </div> <div id=u1> <a href=http://news.baidu.com name=tj_trnews class=mnav>\\xe6\\x96\\xb0\\xe9\\x97\\xbb</a> <a href=http://www.hao123.com name=tj_trhao123 class=mnav>hao123</a> <a href=http://map.baidu.com name=tj_trmap class=mnav>\\xe5\\x9c\\xb0\\xe5\\x9b\\xbe</a> <a href=http://v.baidu.com name=tj_trvideo class=mnav>\\xe8\\xa7\\x86\\xe9\\xa2\\x91</a> <a href=http://tieba.baidu.com name=tj_trtieba class=mnav>\\xe8\\xb4\\xb4\\xe5\\x90\\xa7</a> <noscript> <a href=http://www.baidu.com/bdorz/login.gif?login&amp;tpl=mn&amp;u=http%3A%2F%2Fwww.baidu.com%2f%3fbdorz_come%3d1 name=tj_login class=lb>\\xe7\\x99\\xbb\\xe5\\xbd\\x95</a> </noscript> <script>document.write(\\'<a href=\"http://www.baidu.com/bdorz/login.gif?login&tpl=mn&u=\\'+ encodeURIComponent(window.location.href+ (window.location.search === \"\" ? \"?\" : \"&\")+ \"bdorz_come=1\")+ \\'\" name=\"tj_login\" class=\"lb\">\\xe7\\x99\\xbb\\xe5\\xbd\\x95</a>\\');</script> <a href=//www.baidu.com/more/ name=tj_briicon class=bri style=\"display: block;\">\\xe6\\x9b\\xb4\\xe5\\xa4\\x9a\\xe4\\xba\\xa7\\xe5\\x93\\x81</a> </div> </div> </div> <div id=ftCon> <div id=ftConw> <p id=lh> <a href=http://home.baidu.com>\\xe5\\x85\\xb3\\xe4\\xba\\x8e\\xe7\\x99\\xbe\\xe5\\xba\\xa6</a> <a href=http://ir.baidu.com>About Baidu</a> </p> <p id=cp>&copy;2017&nbsp;Baidu&nbsp;<a href=http://www.baidu.com/duty/>\\xe4\\xbd\\xbf\\xe7\\x94\\xa8\\xe7\\x99\\xbe\\xe5\\xba\\xa6\\xe5\\x89\\x8d\\xe5\\xbf\\x85\\xe8\\xaf\\xbb</a>&nbsp; <a href=http://jianyi.baidu.com/ class=cp-feedback>\\xe6\\x84\\x8f\\xe8\\xa7\\x81\\xe5\\x8f\\x8d\\xe9\\xa6\\x88</a>&nbsp;\\xe4\\xba\\xacICP\\xe8\\xaf\\x81030173\\xe5\\x8f\\xb7&nbsp; <img src=//www.baidu.com/img/gs.gif> </p> </div> </div> </div> </body> </html>\\r\\n'\n",
      "<!DOCTYPE html>\r\n",
      "<!--STATUS OK--><html> <head><meta http-equiv=content-type content=text/html;charset=utf-8><meta http-equiv=X-UA-Compatible content=IE=Edge><meta content=always name=referrer><link rel=stylesheet type=text/css href=http://s1.bdstatic.com/r/www/cache/bdorz/baidu.min.css><title>百度一下，你就知道</title></head> <body link=#0000cc> <div id=wrapper> <div id=head> <div class=head_wrapper> <div class=s_form> <div class=s_form_wrapper> <div id=lg> <img hidefocus=true src=//www.baidu.com/img/bd_logo1.png width=270 height=129> </div> <form id=form name=f action=//www.baidu.com/s class=fm> <input type=hidden name=bdorz_come value=1> <input type=hidden name=ie value=utf-8> <input type=hidden name=f value=8> <input type=hidden name=rsv_bp value=1> <input type=hidden name=rsv_idx value=1> <input type=hidden name=tn value=baidu><span class=\"bg s_ipt_wr\"><input id=kw name=wd class=s_ipt value maxlength=255 autocomplete=off autofocus></span><span class=\"bg s_btn_wr\"><input type=submit id=su value=百度一下 class=\"bg s_btn\"></span> </form> </div> </div> <div id=u1> <a href=http://news.baidu.com name=tj_trnews class=mnav>新闻</a> <a href=http://www.hao123.com name=tj_trhao123 class=mnav>hao123</a> <a href=http://map.baidu.com name=tj_trmap class=mnav>地图</a> <a href=http://v.baidu.com name=tj_trvideo class=mnav>视频</a> <a href=http://tieba.baidu.com name=tj_trtieba class=mnav>贴吧</a> <noscript> <a href=http://www.baidu.com/bdorz/login.gif?login&amp;tpl=mn&amp;u=http%3A%2F%2Fwww.baidu.com%2f%3fbdorz_come%3d1 name=tj_login class=lb>登录</a> </noscript> <script>document.write('<a href=\"http://www.baidu.com/bdorz/login.gif?login&tpl=mn&u='+ encodeURIComponent(window.location.href+ (window.location.search === \"\" ? \"?\" : \"&\")+ \"bdorz_come=1\")+ '\" name=\"tj_login\" class=\"lb\">登录</a>');</script> <a href=//www.baidu.com/more/ name=tj_briicon class=bri style=\"display: block;\">更多产品</a> </div> </div> </div> <div id=ftCon> <div id=ftConw> <p id=lh> <a href=http://home.baidu.com>关于百度</a> <a href=http://ir.baidu.com>About Baidu</a> </p> <p id=cp>&copy;2017&nbsp;Baidu&nbsp;<a href=http://www.baidu.com/duty/>使用百度前必读</a>&nbsp; <a href=http://jianyi.baidu.com/ class=cp-feedback>意见反馈</a>&nbsp;京ICP证030173号&nbsp; <img src=//www.baidu.com/img/gs.gif> </p> </div> </div> </div> </body> </html>\r\n",
      "\n",
      "http://www.baidu.com/\n",
      "ISO-8859-1\n",
      "200\n"
     ]
    }
   ],
   "source": [
    "response = requests.get(\"http://www.baidu.com/\")\n",
    "# 1.查看响应内容，response.text返回的是Unicode格式的数据\n",
    "#系统会根据自己猜测进行解码\n",
    "print(type(response.text)) #unicode字符串\n",
    "print(response.text)\n",
    "#问题：可能会猜测不准确 #比如：title=\"ç¾åº¦æç´¢\" 乱码了\n",
    "\n",
    "# 2.查看响应内容，response.content返回的字符流数据\n",
    "print(response.content) #没有经过解码的 bytes\n",
    "\n",
    "# 3.可以根据自己给的方式进行解码\n",
    "print(response.content.decode('utf-8'))\n",
    "\n",
    "# 4.查看完整的url地址\n",
    "print(response.url)\n",
    "# 5.查看响应头部字符编码\n",
    "print(response.encoding)\n",
    "# 6.查看响应码\n",
    "print(response.status_code)"
   ]
  },
  {
   "cell_type": "markdown",
   "metadata": {},
   "source": [
    "## 添加headers和查询参数"
   ]
  },
  {
   "cell_type": "code",
   "execution_count": 31,
   "metadata": {
    "scrolled": true
   },
   "outputs": [
    {
     "name": "stdout",
     "output_type": "stream",
     "text": [
      "http://www.baidu.com/s?wd=%E4%B8%AD%E5%9B%BD\n"
     ]
    }
   ],
   "source": [
    "params = {'wd': '中国'}\n",
    "\n",
    "headers = {'User-Agent': 'Mozilla/5.0 (Macintosh; Intel Mac OS X 10_13_6) AppleWebKit/537.36 (KHTML, like Gecko) Chrome/68.0.3440.106 Safari/537.36'}\n",
    "\n",
    "# parmas 接收一个字典或者字符串的查询参数，字典类型自动转换为url编码，不需要urlencode()\n",
    "response = requests.get(\"http://www.baidu.com/s\", params = params, headers = headers)\n",
    "\n",
    "with open('baidu.html', 'w') as file:\n",
    "    file.write(response.content.decode('utf-8'))\n",
    "    \n",
    "print(response.url)"
   ]
  },
  {
   "cell_type": "markdown",
   "metadata": {},
   "source": [
    "## 2.发送POST请求"
   ]
  },
  {
   "cell_type": "code",
   "execution_count": 38,
   "metadata": {},
   "outputs": [
    {
     "name": "stdout",
     "output_type": "stream",
     "text": [
      "<class 'str'>\n",
      "{\"success\":true,\"requestId\":null,\"resubmitToken\":null,\"msg\":null,\"code\":0,\"content\":{\"pageNo\":1,\"pageSize\":15,\"hrInfoMap\":{\"3093928\":{\"userId\":39658,\"positionName\":\"HR Manager\",\"phone\":null,\"receiveEmail\":null,\"realName\":\"田女士\",\"portrait\":\"i/image3/M00/38/CB/CgpOIFqqSxuAJ0m0AAA1BmI6kLg767.jpg\",\"userLevel\":\"G1\",\"canTalk\":true},\"4946193\":{\"userId\":6792859,\"positionName\":\"HRM\",\"phone\":null,\"receiveEmail\":null,\"realName\":\"李莹Lynn\",\"portrait\":\"i/image3/M00/41/AF/CgpOIFq0kUqAEZ8pAAAqffE7CCk756.jpg\",\"userLevel\":\"G1\",\"canTalk\":true},\"3313488\":{\"userId\":6115705,\"positionName\":\"招聘\",\"phone\":null,\"receiveEmail\":null,\"realName\":\"yixiaokang28841\",\"portrait\":\"i/image3/M00/43/14/CgpOIFq3jqaAXrelAAA2jtHCJLg052.png\",\"userLevel\":\"G1\",\"canTalk\":true},\"4209682\":{\"userId\":6415758,\"positionName\":\"\",\"phone\":null,\"receiveEmail\":null,\"realName\":\"fengning\",\"portrait\":\"i/image2/M00/20/11/CgoB5loOe9OAWaBHAADQz5Ckb2I066.jpg\",\"userLevel\":\"G1\",\"canTalk\":true},\"4936645\":{\"userId\":11373718,\"positionName\":\"招聘主管\",\"phone\":null,\"receiveEmail\":null,\"realName\":\"姜春秀\",\"portrait\":\"i/image2/M01/74/21/CgoB5ltgdAOAWnuWAAJLWs66vAE152.jpg\",\"userLevel\":\"G1\",\"canTalk\":true},\"3920817\":{\"userId\":6344393,\"positionName\":\"招聘专员/HR\",\"phone\":null,\"receiveEmail\":null,\"realName\":\"曹秀秀\",\"portrait\":\"i/image2/M00/26/42/CgotOVoeeZiAL6DbAABB3_8XL7k503.jpg\",\"userLevel\":\"G1\",\"canTalk\":true},\"4032786\":{\"userId\":4360892,\"positionName\":\"\",\"phone\":null,\"receiveEmail\":null,\"realName\":\"zhaopinxa\",\"portrait\":null,\"userLevel\":\"G1\",\"canTalk\":true},\"4879656\":{\"userId\":9809059,\"positionName\":\"HR Director\",\"phone\":null,\"receiveEmail\":null,\"realName\":\"Sienna Zhang\",\"portrait\":\"i/image2/M01/82/AD/CgotOVuD7vOASqSPAAHDxCwlziU875.jpg\",\"userLevel\":\"G1\",\"canTalk\":true},\"4969990\":{\"userId\":8734468,\"positionName\":\"\",\"phone\":null,\"receiveEmail\":null,\"realName\":\"Stephen\",\"portrait\":null,\"userLevel\":\"G1\",\"canTalk\":true},\"4609178\":{\"userId\":9342353,\"positionName\":\"招聘经理\",\"phone\":null,\"receiveEmail\":null,\"realName\":\"张焕芝Cindy\",\"portrait\":\"i/image2/M00/1E/9A/CgotOVoLm42AQsvuAABP69MrAH4277.gif\",\"userLevel\":\"G1\",\"canTalk\":true},\"5079177\":{\"userId\":2081,\"positionName\":\"招聘主管\",\"phone\":null,\"receiveEmail\":null,\"realName\":\"linda\",\"portrait\":\"i/image/M00/27/AA/CgqKkVcogO6AXTSnAABgADs6xbI487.PNG\",\"userLevel\":\"G1\",\"canTalk\":true},\"4182315\":{\"userId\":8857917,\"positionName\":\"HR\",\"phone\":null,\"receiveEmail\":null,\"realName\":\"Doris\",\"portrait\":\"i/image2/M00/54/F8/CgotOVsaOPCAaS5fAACOehhY1HE001.jpg\",\"userLevel\":\"G1\",\"canTalk\":true},\"4668566\":{\"userId\":94565,\"positionName\":\"CEO\",\"phone\":null,\"receiveEmail\":null,\"realName\":\"张帆\",\"portrait\":\"i/image2/M00/21/66/CgotOVoSo22AD-mEAAEr2WvzoTQ188.png\",\"userLevel\":\"G1\",\"canTalk\":true},\"5020569\":{\"userId\":6584616,\"positionName\":\"招聘经理\",\"phone\":null,\"receiveEmail\":null,\"realName\":\"徐岩\",\"portrait\":\"i/image2/M01/67/33/CgotOVtEGqiAJtlLAAALLS2aONo077.png\",\"userLevel\":\"G1\",\"canTalk\":true},\"4642285\":{\"userId\":6144032,\"positionName\":\"HR\",\"phone\":null,\"receiveEmail\":null,\"realName\":\"shanshu\",\"portrait\":\"i/image2/M00/21/2E/CgotOVoScT6AK6aoAAAeSA43X3s539.png\",\"userLevel\":\"G1\",\"canTalk\":true}},\"positionResult\":{\"totalCount\":28482,\"locationInfo\":{\"queryByGisCode\":false,\"businessZone\":null,\"locationCode\":null,\"isAllhotBusinessZone\":false,\"city\":null,\"district\":null},\"resultSize\":15,\"queryAnalysisInfo\":{\"industryName\":null,\"usefulCompany\":false,\"positionName\":\"python\",\"jobNature\":null,\"companyName\":null},\"strategyProperty\":{\"name\":\"dm-csearch-useUserAllInterest\",\"id\":0},\"hotLabels\":null,\"hiTags\":null,\"result\":[{\"companyId\":320770,\"positionName\":\"Python开发工程师\",\"workYear\":\"3-5年\",\"education\":\"本科\",\"jobNature\":\"全职\",\"companyLogo\":\"i/image2/M01/7E/ED/CgotOVt6uvSAUbExAABfYS3CwcM672.jpg\",\"industryField\":\"移动互联网,企业服务\",\"financeStage\":\"天使轮\",\"companySize\":\"50-150人\",\"city\":\"北京\",\"salary\":\"18k-36k\",\"positionId\":4879656,\"positionAdvantage\":\"初创公司,技术驱动\",\"companyShortName\":\"Aibee\",\"createTime\":\"2018-08-30 18:56:22\",\"district\":\"海淀区\",\"score\":0,\"approve\":0,\"positionLables\":[\"后端\",\"服务器端\",\"客户端\"],\"industryLables\":[],\"publisherId\":9809059,\"companyLabelList\":[\"专项奖金\",\"股票期权\",\"带薪年假\",\"交通补助\"],\"businessZones\":[\"西北旺\",\"上地\",\"马连洼\"],\"longitude\":\"116.307879\",\"latitude\":\"40.03682\",\"formatCreateTime\":\"3天前发布\",\"companyFullName\":\"爱笔（北京）智能科技有限公司\",\"adWord\":0,\"hitags\":null,\"resumeProcessRate\":100,\"resumeProcessDay\":1,\"imState\":\"threeDays\",\"lastLogin\":1535699718000,\"explain\":null,\"plus\":null,\"pcShow\":0,\"appShow\":0,\"deliver\":0,\"gradeDescription\":null,\"promotionScoreExplain\":null,\"firstType\":\"开发|测试|运维类\",\"secondType\":\"后端开发\",\"isSchoolJob\":0,\"subwayline\":\"13号线\",\"stationname\":\"上地\",\"linestaion\":\"13号线_上地\"},{\"companyId\":55446,\"positionName\":\"Python开发工程师\",\"workYear\":\"1-3年\",\"education\":\"本科\",\"jobNature\":\"全职\",\"companyLogo\":\"i/image3/M00/4C/9E/CgpOIFrgFT-AB_lKAAAXCTsC5_U047.png\",\"industryField\":\"移动互联网,O2O\",\"financeStage\":\"C轮\",\"companySize\":\"2000人以上\",\"city\":\"北京\",\"salary\":\"25k-50k\",\"positionId\":4936645,\"positionAdvantage\":\"15薪,13天年假,免费3餐,六险二金\",\"companyShortName\":\"贝壳\",\"createTime\":\"2018-09-01 13:40:03\",\"district\":\"海淀区\",\"score\":0,\"approve\":1,\"positionLables\":[\"后端\"],\"industryLables\":[],\"publisherId\":11373718,\"companyLabelList\":[\"股票期权\",\"带薪年假\",\"绩效奖金\",\"扁平管理\"],\"businessZones\":[\"上地\",\"马连洼\",\"西二旗\"],\"longitude\":\"116.305611\",\"latitude\":\"40.04018\",\"formatCreateTime\":\"1天前发布\",\"companyFullName\":\"链家网（北京）科技有限公司\",\"adWord\":0,\"hitags\":[\"免费班车\",\"免费健身房\",\"免费下午茶\",\"一年调薪1次\",\"一年调薪2次\",\"15薪\",\"弹性工作\",\"地铁周边\",\"定期团建\",\"工作居住证\",\"超长年假\",\"6险2金\"],\"resumeProcessRate\":100,\"resumeProcessDay\":1,\"imState\":\"today\",\"lastLogin\":1535793300000,\"explain\":null,\"plus\":null,\"pcShow\":0,\"appShow\":0,\"deliver\":0,\"gradeDescription\":null,\"promotionScoreExplain\":null,\"firstType\":\"开发|测试|运维类\",\"secondType\":\"后端开发\",\"isSchoolJob\":0,\"subwayline\":\"昌平线\",\"stationname\":\"上地\",\"linestaion\":\"13号线_上地;13号线_西二旗;昌平线_西二旗\"},{\"companyId\":1561,\"positionName\":\"Python工程师\",\"workYear\":\"1-3年\",\"education\":\"本科\",\"jobNature\":\"全职\",\"companyLogo\":\"i/image/M00/8A/62/CgqKkVh1n0eACORfAAAQPSvw5sM235.jpg\",\"industryField\":\"移动互联网,硬件\",\"financeStage\":\"C轮\",\"companySize\":\"500-2000人\",\"city\":\"北京\",\"salary\":\"20k-40k\",\"positionId\":3093928,\"positionAdvantage\":\"技术驱动,极客氛围,大牛团队\",\"companyShortName\":\"Face++\",\"createTime\":\"2018-08-23 11:18:36\",\"district\":\"海淀区\",\"score\":0,\"approve\":1,\"positionLables\":[\"后端\"],\"industryLables\":[],\"publisherId\":39658,\"companyLabelList\":[\"科技大牛公司\",\"自助三餐\",\"年终多薪\",\"超长带薪假期\"],\"businessZones\":null,\"longitude\":\"39.897445\",\"latitude\":\"116.331398\",\"formatCreateTime\":\"2018-08-23\",\"companyFullName\":\"北京旷视科技有限公司\",\"adWord\":0,\"hitags\":null,\"resumeProcessRate\":100,\"resumeProcessDay\":1,\"imState\":\"today\",\"lastLogin\":1535795755000,\"explain\":null,\"plus\":null,\"pcShow\":0,\"appShow\":0,\"deliver\":0,\"gradeDescription\":null,\"promotionScoreExplain\":null,\"firstType\":\"开发|测试|运维类\",\"secondType\":\"后端开发\",\"isSchoolJob\":0,\"subwayline\":null,\"stationname\":null,\"linestaion\":null},{\"companyId\":1499,\"positionName\":\"Python研发工程师\",\"workYear\":\"3-5年\",\"education\":\"本科\",\"jobNature\":\"全职\",\"companyLogo\":\"i/image2/M00/3A/BA/CgoB5lpPMwSAXdd7AAAKFfX6PoM377.png\",\"industryField\":\"移动互联网,教育\",\"financeStage\":\"C轮\",\"companySize\":\"2000人以上\",\"city\":\"北京\",\"salary\":\"20k-35k\",\"positionId\":5020569,\"positionAdvantage\":\"地铁周边\",\"companyShortName\":\"学霸君\",\"createTime\":\"2018-09-01 09:18:25\",\"district\":\"朝阳区\",\"score\":0,\"approve\":1,\"positionLables\":[],\"industryLables\":[],\"publisherId\":6584616,\"companyLabelList\":[\"帅哥多\",\"美女多\",\"股票期权\",\"年底双薪\"],\"businessZones\":null,\"longitude\":\"116.487866\",\"latitude\":\"39.999766\",\"formatCreateTime\":\"1天前发布\",\"companyFullName\":\"上海谦问万答吧云计算科技有限公司\",\"adWord\":0,\"hitags\":null,\"resumeProcessRate\":12,\"resumeProcessDay\":1,\"imState\":\"today\",\"lastLogin\":1535764683000,\"explain\":null,\"plus\":null,\"pcShow\":0,\"appShow\":0,\"deliver\":0,\"gradeDescription\":null,\"promotionScoreExplain\":null,\"firstType\":\"开发|测试|运维类\",\"secondType\":\"后端开发\",\"isSchoolJob\":0,\"subwayline\":\"15号线\",\"stationname\":\"望京东\",\"linestaion\":\"15号线_望京东\"},{\"companyId\":8861,\"positionName\":\"Python开发工程师\",\"workYear\":\"1-3年\",\"education\":\"本科\",\"jobNature\":\"全职\",\"companyLogo\":\"i/image3/M00/33/B0/CgpOIFqmH5iAERXHAAATykToQK4965.jpg\",\"industryField\":\"旅游\",\"financeStage\":\"B轮\",\"companySize\":\"150-500人\",\"city\":\"天津\",\"salary\":\"8k-16k\",\"positionId\":4668566,\"positionAdvantage\":\"三餐全包,发展空间\",\"companyShortName\":\"妙计旅行\",\"createTime\":\"2018-08-31 22:17:03\",\"district\":\"滨海新区\",\"score\":0,\"approve\":1,\"positionLables\":[\"大数据\",\"Java\",\"算法\"],\"industryLables\":[\"大数据\",\"Java\",\"算法\"],\"publisherId\":94565,\"companyLabelList\":[\"股票期权\",\"十四薪\",\"零食饮料水果\",\"团队氛围好\"],\"businessZones\":null,\"longitude\":\"117.679773\",\"latitude\":\"38.996628\",\"formatCreateTime\":\"2天前发布\",\"companyFullName\":\"北京汇行科技有限公司\",\"adWord\":0,\"hitags\":null,\"resumeProcessRate\":100,\"resumeProcessDay\":1,\"imState\":\"overSevenDays\",\"lastLogin\":1534392709000,\"explain\":null,\"plus\":null,\"pcShow\":0,\"appShow\":0,\"deliver\":0,\"gradeDescription\":null,\"promotionScoreExplain\":null,\"firstType\":\"开发|测试|运维类\",\"secondType\":\"后端开发\",\"isSchoolJob\":0,\"subwayline\":null,\"stationname\":null,\"linestaion\":null},{\"companyId\":16831,\"positionName\":\"Python\",\"workYear\":\"3-5年\",\"education\":\"大专\",\"jobNature\":\"全职\",\"companyLogo\":\"i/image/M00/02/AB/CgqKkVaXX_6AaLKaAAAX52Kvjjg750.jpg\",\"industryField\":\"移动互联网\",\"financeStage\":\"不需要融资\",\"companySize\":\"2000人以上\",\"city\":\"武汉\",\"salary\":\"15k-30k\",\"positionId\":3313488,\"positionAdvantage\":\"牛人团队,薪资高,福利好\",\"companyShortName\":\"武汉佰钧成技术有限公司\",\"createTime\":\"2018-09-01 12:19:31\",\"district\":\"东湖新技术开发区\",\"score\":0,\"approve\":1,\"positionLables\":[\"云计算\",\"软件开发\",\"Linux\"],\"industryLables\":[\"云计算\",\"软件开发\",\"Linux\"],\"publisherId\":6115705,\"companyLabelList\":[\"带薪年假\",\"计算机软件\",\"管理规范\",\"定期体检\"],\"businessZones\":[\"观澜\"],\"longitude\":\"114.538478\",\"latitude\":\"30.489386\",\"formatCreateTime\":\"1天前发布\",\"companyFullName\":\"武汉佰钧成技术有限责任公司\",\"adWord\":0,\"hitags\":[\"免费班车\",\"试用期上社保\",\"试用期上公积金\",\"免费下午茶\",\"一年调薪1次\",\"免费体检\",\"6险1金\",\"前景无限好\",\"加班补贴\"],\"resumeProcessRate\":0,\"resumeProcessDay\":0,\"imState\":\"today\",\"lastLogin\":1535774931000,\"explain\":null,\"plus\":null,\"pcShow\":0,\"appShow\":0,\"deliver\":0,\"gradeDescription\":null,\"promotionScoreExplain\":null,\"firstType\":\"开发|测试|运维类\",\"secondType\":\"企业软件\",\"isSchoolJob\":0,\"subwayline\":null,\"stationname\":null,\"linestaion\":null},{\"companyId\":202104,\"positionName\":\"Python开发工程师\",\"workYear\":\"3-5年\",\"education\":\"本科\",\"jobNature\":\"全职\",\"companyLogo\":\"i/image3/M00/25/C2/Cgq2xlqXtZ-ATE9tAAAsHI8z3Ns325.png\",\"industryField\":\"移动互联网\",\"financeStage\":\"B轮\",\"companySize\":\"500-2000人\",\"city\":\"上海\",\"salary\":\"20k-30k\",\"positionId\":4609178,\"positionAdvantage\":\"平均16薪,扁平化管理,弹性工作,福利好\",\"companyShortName\":\"趣头条\",\"createTime\":\"2018-08-31 10:34:21\",\"district\":\"浦东新区\",\"score\":0,\"approve\":0,\"positionLables\":[\"云计算\",\"Ruby\",\"云计算\"],\"industryLables\":[\"云计算\",\"Ruby\",\"云计算\"],\"publisherId\":9342353,\"companyLabelList\":[\"专项奖金\",\"带薪年假\",\"弹性工作\",\"管理规范\"],\"businessZones\":null,\"longitude\":\"121.626629\",\"latitude\":\"31.20905\",\"formatCreateTime\":\"2天前发布\",\"companyFullName\":\"上海基分文化传播有限公司\",\"adWord\":0,\"hitags\":null,\"resumeProcessRate\":13,\"resumeProcessDay\":1,\"imState\":\"threeDays\",\"lastLogin\":1535683586000,\"explain\":null,\"plus\":null,\"pcShow\":0,\"appShow\":0,\"deliver\":0,\"gradeDescription\":null,\"promotionScoreExplain\":null,\"firstType\":\"开发|测试|运维类\",\"secondType\":\"后端开发\",\"isSchoolJob\":0,\"subwayline\":\"2号线2号线东延\",\"stationname\":\"广兰路\",\"linestaion\":\"2号线2号线东延_广兰路\"},{\"companyId\":257650,\"positionName\":\"Python开发工程师\",\"workYear\":\"1年以下\",\"education\":\"大专\",\"jobNature\":\"全职\",\"companyLogo\":\"i/image2/M00/07/74/CgoB5lnMl2iAe8OFAAA16Rpx2MM791.jpg\",\"industryField\":\"移动互联网,数据服务\",\"financeStage\":\"上市公司\",\"companySize\":\"150-500人\",\"city\":\"广州\",\"salary\":\"5k-8k\",\"positionId\":4182315,\"positionAdvantage\":\"双休,提成,五险一金,带薪休假\",\"companyShortName\":\"广州玖维信息科技有限公司\",\"createTime\":\"2018-09-01 10:50:11\",\"district\":\"天河区\",\"score\":0,\"approve\":1,\"positionLables\":[\"Java\"],\"industryLables\":[],\"publisherId\":8857917,\"companyLabelList\":[\"年底双薪\",\"专项奖金\",\"年终分红\",\"带薪年假\"],\"businessZones\":[\"天河城\",\"石牌\",\"体育中心\"],\"longitude\":\"113.328218\",\"latitude\":\"23.133454\",\"formatCreateTime\":\"1天前发布\",\"companyFullName\":\"广州玖维信息科技有限公司\",\"adWord\":0,\"hitags\":null,\"resumeProcessRate\":0,\"resumeProcessDay\":0,\"imState\":\"today\",\"lastLogin\":1535770205000,\"explain\":null,\"plus\":null,\"pcShow\":0,\"appShow\":0,\"deliver\":0,\"gradeDescription\":null,\"promotionScoreExplain\":null,\"firstType\":\"开发|测试|运维类\",\"secondType\":\"后端开发\",\"isSchoolJob\":0,\"subwayline\":\"APM线\",\"stationname\":\"妇儿中心\",\"linestaion\":\"1号线_体育西路;1号线_体育中心;3号线_体育西路;3号线_石牌桥;3号线_岗顶;3号线(北延段)_林和西;3号线(北延段)_体育西路;APM线_妇儿中心;APM线_黄埔大道;APM线_天河南;APM线_体育中心南;APM线_林和西\"},{\"companyId\":22481,\"positionName\":\"Python\",\"workYear\":\"1-3年\",\"education\":\"本科\",\"jobNature\":\"全职\",\"companyLogo\":\"i/image2/M01/79/33/CgoB5ltr__SACuwOAAAuMqoAuHQ169.png\",\"industryField\":\"移动互联网\",\"financeStage\":\"B轮\",\"companySize\":\"150-500人\",\"city\":\"苏州\",\"salary\":\"6k-12k\",\"positionId\":3920817,\"positionAdvantage\":\"带薪年假,定期体检,五险一金,福利多多\",\"companyShortName\":\"问卷网@爱调研\",\"createTime\":\"2018-08-31 15:28:07\",\"district\":\"工业园区\",\"score\":0,\"approve\":1,\"positionLables\":[\"全栈\",\"爬虫\"],\"industryLables\":[],\"publisherId\":6344393,\"companyLabelList\":[\"技能培训\",\"节日礼物\",\"年底双薪\",\"绩效奖金\"],\"businessZones\":[\"独墅湖\",\"独墅湖\"],\"longitude\":\"120.732665\",\"latitude\":\"31.264799\",\"formatCreateTime\":\"2天前发布\",\"companyFullName\":\"上海众言网络科技有限公司\",\"adWord\":0,\"hitags\":null,\"resumeProcessRate\":100,\"resumeProcessDay\":3,\"imState\":\"threeDays\",\"lastLogin\":1535700473000,\"explain\":null,\"plus\":null,\"pcShow\":0,\"appShow\":0,\"deliver\":0,\"gradeDescription\":null,\"promotionScoreExplain\":null,\"firstType\":\"开发|测试|运维类\",\"secondType\":\"后端开发\",\"isSchoolJob\":0,\"subwayline\":\"2号线\",\"stationname\":\"松涛街\",\"linestaion\":\"2号线_月亮湾;2号线_松涛街\"},{\"companyId\":155938,\"positionName\":\"Python开发工程师\",\"workYear\":\"3-5年\",\"education\":\"本科\",\"jobNature\":\"全职\",\"companyLogo\":\"i/image/M00/5C/51/CgpFT1mRP_iAfc_6AACKr_pu-fc180.jpg\",\"industryField\":\"信息安全\",\"financeStage\":\"天使轮\",\"companySize\":\"15-50人\",\"city\":\"苏州\",\"salary\":\"12k-20k\",\"positionId\":4209682,\"positionAdvantage\":\"人工智能,前景广阔,福利齐全,技术领先\",\"companyShortName\":\"苏州锦佰安\",\"createTime\":\"2018-08-30 09:57:52\",\"district\":\"工业园区\",\"score\":0,\"approve\":1,\"positionLables\":[],\"industryLables\":[],\"publisherId\":6415758,\"companyLabelList\":[\"股票期权\",\"弹性工作\",\"带薪年假\",\"绩效奖金\"],\"businessZones\":null,\"longitude\":\"120.733709\",\"latitude\":\"31.254368\",\"formatCreateTime\":\"3天前发布\",\"companyFullName\":\"苏州锦佰安信息技术有限公司\",\"adWord\":0,\"hitags\":null,\"resumeProcessRate\":0,\"resumeProcessDay\":0,\"imState\":\"threeDays\",\"lastLogin\":1535620046000,\"explain\":null,\"plus\":null,\"pcShow\":0,\"appShow\":0,\"deliver\":0,\"gradeDescription\":null,\"promotionScoreExplain\":null,\"firstType\":\"开发|测试|运维类\",\"secondType\":\"后端开发\",\"isSchoolJob\":0,\"subwayline\":\"2号线\",\"stationname\":\"独墅湖邻里中心\",\"linestaion\":\"2号线_独墅湖邻里中心;2号线_月亮湾;2号线_松涛街\"},{\"companyId\":534,\"positionName\":\"Python开发工程师-自动化网络方向\",\"workYear\":\"3-5年\",\"education\":\"本科\",\"jobNature\":\"全职\",\"companyLogo\":\"i/image2/M01/70/AC/CgoB5ltYG_-AYFOwAAAMVraNaw0666.jpg\",\"industryField\":\"金融\",\"financeStage\":\"上市公司\",\"companySize\":\"2000人以上\",\"city\":\"北京\",\"salary\":\"18k-30k\",\"positionId\":5079177,\"positionAdvantage\":\"班车,餐补\",\"companyShortName\":\"京东金融\",\"createTime\":\"2018-09-01 14:51:24\",\"district\":\"大兴区\",\"score\":0,\"approve\":1,\"positionLables\":[],\"industryLables\":[],\"publisherId\":2081,\"companyLabelList\":[\"供应链金融\",\"消费金融\",\"众筹业务\",\"支付业务\"],\"businessZones\":null,\"longitude\":\"116.564383\",\"latitude\":\"39.786038\",\"formatCreateTime\":\"1天前发布\",\"companyFullName\":\"京东金融\",\"adWord\":0,\"hitags\":null,\"resumeProcessRate\":100,\"resumeProcessDay\":2,\"imState\":\"today\",\"lastLogin\":1535804950000,\"explain\":null,\"plus\":null,\"pcShow\":0,\"appShow\":0,\"deliver\":0,\"gradeDescription\":null,\"promotionScoreExplain\":null,\"firstType\":\"开发|测试|运维类\",\"secondType\":\"后端开发\",\"isSchoolJob\":0,\"subwayline\":\"亦庄线\",\"stationname\":\"经海路\",\"linestaion\":\"亦庄线_经海路\"},{\"companyId\":154561,\"positionName\":\"Python工程师\",\"workYear\":\"1-3年\",\"education\":\"本科\",\"jobNature\":\"全职\",\"companyLogo\":\"i/image3/M00/3F/A2/CgpOIFqyLtWAIKr3AAA5XxrO2es309.png\",\"industryField\":\"移动互联网\",\"financeStage\":\"B轮\",\"companySize\":\"50-150人\",\"city\":\"上海\",\"salary\":\"10k-20k\",\"positionId\":4969990,\"positionAdvantage\":\"薪资福利好,技术团队强,氛围好,发展空间大\",\"companyShortName\":\"MoSeeker仟寻\",\"createTime\":\"2018-08-31 09:32:29\",\"district\":\"徐汇区\",\"score\":0,\"approve\":0,\"positionLables\":[\"MySQL\"],\"industryLables\":[],\"publisherId\":8734468,\"companyLabelList\":[\"带薪年假\",\"定期体检\",\"年终分红\",\"节日礼物\"],\"businessZones\":null,\"longitude\":\"121.432441\",\"latitude\":\"31.196247\",\"formatCreateTime\":\"2天前发布\",\"companyFullName\":\"上海大岂网络科技有限公司\",\"adWord\":0,\"hitags\":null,\"resumeProcessRate\":100,\"resumeProcessDay\":1,\"imState\":\"threeDays\",\"lastLogin\":1535704269000,\"explain\":null,\"plus\":null,\"pcShow\":0,\"appShow\":0,\"deliver\":0,\"gradeDescription\":null,\"promotionScoreExplain\":null,\"firstType\":\"开发|测试|运维类\",\"secondType\":\"后端开发\",\"isSchoolJob\":0,\"subwayline\":\"11号线(花桥)\",\"stationname\":\"虹桥路\",\"linestaion\":\"1号线_徐家汇;3号线_虹桥路;3号线_宜山路;4号线_虹桥路;9号线_徐家汇;9号线_宜山路;10号线(航中路)_交通大学;10号线(航中路)_虹桥路;10号线(虹桥火车站)_交通大学;10号线(虹桥火车站)_虹桥路;11号线(嘉定北)_徐家汇;11号线(嘉定北)_交通大学;11号线(花桥)_徐家汇;11号线(花桥)_交通大学\"},{\"companyId\":30648,\"positionName\":\"python开发工程师\",\"workYear\":\"1-3年\",\"education\":\"本科\",\"jobNature\":\"全职\",\"companyLogo\":\"image1/M00/00/45/Cgo8PFTUXNqAI8G5AABrGbu56q4495.png\",\"industryField\":\"信息安全\",\"financeStage\":\"上市公司\",\"companySize\":\"500-2000人\",\"city\":\"西安\",\"salary\":\"9k-15k\",\"positionId\":4032786,\"positionAdvantage\":\"五险一金；弹性工作；餐补；定期体检\",\"companyShortName\":\"绿盟科技\",\"createTime\":\"2018-08-31 09:21:31\",\"district\":\"雁塔区\",\"score\":0,\"approve\":1,\"positionLables\":[\"信息安全\"],\"industryLables\":[\"信息安全\"],\"publisherId\":4360892,\"companyLabelList\":[\"技能培训\",\"节日礼物\",\"股票期权\",\"带薪年假\"],\"businessZones\":null,\"longitude\":\"108.86853\",\"latitude\":\"34.195473\",\"formatCreateTime\":\"2天前发布\",\"companyFullName\":\"北京神州绿盟信息安全科技股份有限公司\",\"adWord\":0,\"hitags\":null,\"resumeProcessRate\":37,\"resumeProcessDay\":1,\"imState\":\"threeDays\",\"lastLogin\":1535693767000,\"explain\":null,\"plus\":null,\"pcShow\":0,\"appShow\":0,\"deliver\":0,\"gradeDescription\":null,\"promotionScoreExplain\":null,\"firstType\":\"开发|测试|运维类\",\"secondType\":\"后端开发\",\"isSchoolJob\":0,\"subwayline\":null,\"stationname\":null,\"linestaion\":null},{\"companyId\":144576,\"positionName\":\"Python开发工程师\",\"workYear\":\"3-5年\",\"education\":\"本科\",\"jobNature\":\"全职\",\"companyLogo\":\"i/image/M00/5A/ED/Cgp3O1ffoHyAUyBeAAAR8ki8dmw574.jpg\",\"industryField\":\"数据服务,移动互联网\",\"financeStage\":\"A轮\",\"companySize\":\"50-150人\",\"city\":\"北京\",\"salary\":\"18k-22k\",\"positionId\":4642285,\"positionAdvantage\":\"超优质团队,大牛带领,福利多多,发展前景\",\"companyShortName\":\"杉数科技\",\"createTime\":\"2018-08-31 11:04:26\",\"district\":\"东城区\",\"score\":0,\"approve\":1,\"positionLables\":[\"Java\",\"MySQL\"],\"industryLables\":[],\"publisherId\":6144032,\"companyLabelList\":[\"带薪年假\",\"午餐补助\",\"弹性工作\",\"年度旅游\"],\"businessZones\":[\"和平里\",\"北新桥\",\"东直门\"],\"longitude\":\"116.424351\",\"latitude\":\"39.948703\",\"formatCreateTime\":\"2天前发布\",\"companyFullName\":\"杉数科技（北京）有限公司\",\"adWord\":0,\"hitags\":null,\"resumeProcessRate\":86,\"resumeProcessDay\":1,\"imState\":\"threeDays\",\"lastLogin\":1535684642000,\"explain\":null,\"plus\":null,\"pcShow\":0,\"appShow\":0,\"deliver\":0,\"gradeDescription\":null,\"promotionScoreExplain\":null,\"firstType\":\"开发|测试|运维类\",\"secondType\":\"后端开发\",\"isSchoolJob\":0,\"subwayline\":\"机场线\",\"stationname\":\"东直门\",\"linestaion\":\"2号线_安定门;2号线_雍和宫;2号线_东直门;5号线_北新桥;5号线_雍和宫;5号线_和平里北街;13号线_柳芳;13号线_东直门;机场线_东直门\"},{\"companyId\":299367,\"positionName\":\"PYTHON开发\",\"workYear\":\"1-3年\",\"education\":\"本科\",\"jobNature\":\"全职\",\"companyLogo\":\"i/image/M00/82/81/CgpEMlpUhIWABbeAAACdUAQ70yo188.jpg\",\"industryField\":\"信息安全、移动互联网\",\"financeStage\":\"天使轮\",\"companySize\":\"15-50人\",\"city\":\"郑州\",\"salary\":\"8k-10k\",\"positionId\":4946193,\"positionAdvantage\":\"环境好\",\"companyShortName\":\"戎磐网络\",\"createTime\":\"2018-08-31 08:54:51\",\"district\":\"金水区\",\"score\":0,\"approve\":0,\"positionLables\":[\"信息安全\",\"后端\"],\"industryLables\":[\"信息安全\",\"后端\"],\"publisherId\":6792859,\"companyLabelList\":[\"带薪年假\",\"定期体检\",\"节日礼物\",\"五险一金\"],\"businessZones\":[\"东风路\",\"花园路\"],\"longitude\":\"113.68056\",\"latitude\":\"34.793525\",\"formatCreateTime\":\"2天前发布\",\"companyFullName\":\"上海戎磐网络科技有限公司\",\"adWord\":0,\"hitags\":null,\"resumeProcessRate\":100,\"resumeProcessDay\":1,\"imState\":\"disabled\",\"lastLogin\":1535678103000,\"explain\":null,\"plus\":null,\"pcShow\":0,\"appShow\":0,\"deliver\":0,\"gradeDescription\":null,\"promotionScoreExplain\":null,\"firstType\":\"开发|测试|运维类\",\"secondType\":\"后端开发\",\"isSchoolJob\":0,\"subwayline\":\"2号线\",\"stationname\":\"东风路\",\"linestaion\":\"2号线_北三环;2号线_东风路;2号线_关虎屯\"}]}}}\n"
     ]
    }
   ],
   "source": [
    "# 1.最基本的POST请求可以使用post方法：\n",
    "headers = {\n",
    "    'Referer': 'https://www.lagou.com/jobs/list_python?labelWords=&fromSearch=true&suginput=',\n",
    "    'User-Agent': 'Mozilla/5.0 (Macintosh; Intel Mac OS X 10_13_6) AppleWebKit/537.36 (KHTML, like Gecko) Chrome/68.0.3440.106 Safari/537.36'\n",
    "}\n",
    "data = {\n",
    "    'first': \"true\",\n",
    "    'pn': 1,\n",
    "    'kd': \"python\"\n",
    "}\n",
    "response = requests.post('https://www.lagou.com/jobs/positionAjax.json?needAddtionalResult=false',\n",
    "                        data = data, headers=headers)\n",
    "print(type(response.text))\n",
    "print(response.text) #返回的是json数据，json本质上就是str"
   ]
  },
  {
   "cell_type": "code",
   "execution_count": 39,
   "metadata": {},
   "outputs": [
    {
     "name": "stdout",
     "output_type": "stream",
     "text": [
      "<class 'dict'>\n",
      "{'success': True, 'requestId': None, 'resubmitToken': None, 'msg': None, 'code': 0, 'content': {'pageNo': 1, 'pageSize': 15, 'hrInfoMap': {'3093928': {'userId': 39658, 'positionName': 'HR Manager', 'phone': None, 'receiveEmail': None, 'realName': '田女士', 'portrait': 'i/image3/M00/38/CB/CgpOIFqqSxuAJ0m0AAA1BmI6kLg767.jpg', 'userLevel': 'G1', 'canTalk': True}, '4946193': {'userId': 6792859, 'positionName': 'HRM', 'phone': None, 'receiveEmail': None, 'realName': '李莹Lynn', 'portrait': 'i/image3/M00/41/AF/CgpOIFq0kUqAEZ8pAAAqffE7CCk756.jpg', 'userLevel': 'G1', 'canTalk': True}, '3313488': {'userId': 6115705, 'positionName': '招聘', 'phone': None, 'receiveEmail': None, 'realName': 'yixiaokang28841', 'portrait': 'i/image3/M00/43/14/CgpOIFq3jqaAXrelAAA2jtHCJLg052.png', 'userLevel': 'G1', 'canTalk': True}, '4209682': {'userId': 6415758, 'positionName': '', 'phone': None, 'receiveEmail': None, 'realName': 'fengning', 'portrait': 'i/image2/M00/20/11/CgoB5loOe9OAWaBHAADQz5Ckb2I066.jpg', 'userLevel': 'G1', 'canTalk': True}, '4936645': {'userId': 11373718, 'positionName': '招聘主管', 'phone': None, 'receiveEmail': None, 'realName': '姜春秀', 'portrait': 'i/image2/M01/74/21/CgoB5ltgdAOAWnuWAAJLWs66vAE152.jpg', 'userLevel': 'G1', 'canTalk': True}, '3920817': {'userId': 6344393, 'positionName': '招聘专员/HR', 'phone': None, 'receiveEmail': None, 'realName': '曹秀秀', 'portrait': 'i/image2/M00/26/42/CgotOVoeeZiAL6DbAABB3_8XL7k503.jpg', 'userLevel': 'G1', 'canTalk': True}, '4032786': {'userId': 4360892, 'positionName': '', 'phone': None, 'receiveEmail': None, 'realName': 'zhaopinxa', 'portrait': None, 'userLevel': 'G1', 'canTalk': True}, '4879656': {'userId': 9809059, 'positionName': 'HR Director', 'phone': None, 'receiveEmail': None, 'realName': 'Sienna Zhang', 'portrait': 'i/image2/M01/82/AD/CgotOVuD7vOASqSPAAHDxCwlziU875.jpg', 'userLevel': 'G1', 'canTalk': True}, '4969990': {'userId': 8734468, 'positionName': '', 'phone': None, 'receiveEmail': None, 'realName': 'Stephen', 'portrait': None, 'userLevel': 'G1', 'canTalk': True}, '4609178': {'userId': 9342353, 'positionName': '招聘经理', 'phone': None, 'receiveEmail': None, 'realName': '张焕芝Cindy', 'portrait': 'i/image2/M00/1E/9A/CgotOVoLm42AQsvuAABP69MrAH4277.gif', 'userLevel': 'G1', 'canTalk': True}, '5079177': {'userId': 2081, 'positionName': '招聘主管', 'phone': None, 'receiveEmail': None, 'realName': 'linda', 'portrait': 'i/image/M00/27/AA/CgqKkVcogO6AXTSnAABgADs6xbI487.PNG', 'userLevel': 'G1', 'canTalk': True}, '4182315': {'userId': 8857917, 'positionName': 'HR', 'phone': None, 'receiveEmail': None, 'realName': 'Doris', 'portrait': 'i/image2/M00/54/F8/CgotOVsaOPCAaS5fAACOehhY1HE001.jpg', 'userLevel': 'G1', 'canTalk': True}, '4668566': {'userId': 94565, 'positionName': 'CEO', 'phone': None, 'receiveEmail': None, 'realName': '张帆', 'portrait': 'i/image2/M00/21/66/CgotOVoSo22AD-mEAAEr2WvzoTQ188.png', 'userLevel': 'G1', 'canTalk': True}, '5020569': {'userId': 6584616, 'positionName': '招聘经理', 'phone': None, 'receiveEmail': None, 'realName': '徐岩', 'portrait': 'i/image2/M01/67/33/CgotOVtEGqiAJtlLAAALLS2aONo077.png', 'userLevel': 'G1', 'canTalk': True}, '4642285': {'userId': 6144032, 'positionName': 'HR', 'phone': None, 'receiveEmail': None, 'realName': 'shanshu', 'portrait': 'i/image2/M00/21/2E/CgotOVoScT6AK6aoAAAeSA43X3s539.png', 'userLevel': 'G1', 'canTalk': True}}, 'positionResult': {'totalCount': 28482, 'locationInfo': {'queryByGisCode': False, 'businessZone': None, 'locationCode': None, 'isAllhotBusinessZone': False, 'city': None, 'district': None}, 'resultSize': 15, 'queryAnalysisInfo': {'industryName': None, 'usefulCompany': False, 'positionName': 'python', 'jobNature': None, 'companyName': None}, 'strategyProperty': {'name': 'dm-csearch-useUserAllInterest', 'id': 0}, 'hotLabels': None, 'hiTags': None, 'result': [{'companyId': 320770, 'positionName': 'Python开发工程师', 'workYear': '3-5年', 'education': '本科', 'jobNature': '全职', 'companyLogo': 'i/image2/M01/7E/ED/CgotOVt6uvSAUbExAABfYS3CwcM672.jpg', 'industryField': '移动互联网,企业服务', 'financeStage': '天使轮', 'companySize': '50-150人', 'city': '北京', 'salary': '18k-36k', 'positionId': 4879656, 'positionAdvantage': '初创公司,技术驱动', 'companyShortName': 'Aibee', 'createTime': '2018-08-30 18:56:22', 'district': '海淀区', 'score': 0, 'approve': 0, 'positionLables': ['后端', '服务器端', '客户端'], 'industryLables': [], 'publisherId': 9809059, 'companyLabelList': ['专项奖金', '股票期权', '带薪年假', '交通补助'], 'businessZones': ['西北旺', '上地', '马连洼'], 'longitude': '116.307879', 'latitude': '40.03682', 'formatCreateTime': '3天前发布', 'companyFullName': '爱笔（北京）智能科技有限公司', 'adWord': 0, 'hitags': None, 'resumeProcessRate': 100, 'resumeProcessDay': 1, 'imState': 'threeDays', 'lastLogin': 1535699718000, 'explain': None, 'plus': None, 'pcShow': 0, 'appShow': 0, 'deliver': 0, 'gradeDescription': None, 'promotionScoreExplain': None, 'firstType': '开发|测试|运维类', 'secondType': '后端开发', 'isSchoolJob': 0, 'subwayline': '13号线', 'stationname': '上地', 'linestaion': '13号线_上地'}, {'companyId': 55446, 'positionName': 'Python开发工程师', 'workYear': '1-3年', 'education': '本科', 'jobNature': '全职', 'companyLogo': 'i/image3/M00/4C/9E/CgpOIFrgFT-AB_lKAAAXCTsC5_U047.png', 'industryField': '移动互联网,O2O', 'financeStage': 'C轮', 'companySize': '2000人以上', 'city': '北京', 'salary': '25k-50k', 'positionId': 4936645, 'positionAdvantage': '15薪,13天年假,免费3餐,六险二金', 'companyShortName': '贝壳', 'createTime': '2018-09-01 13:40:03', 'district': '海淀区', 'score': 0, 'approve': 1, 'positionLables': ['后端'], 'industryLables': [], 'publisherId': 11373718, 'companyLabelList': ['股票期权', '带薪年假', '绩效奖金', '扁平管理'], 'businessZones': ['上地', '马连洼', '西二旗'], 'longitude': '116.305611', 'latitude': '40.04018', 'formatCreateTime': '1天前发布', 'companyFullName': '链家网（北京）科技有限公司', 'adWord': 0, 'hitags': ['免费班车', '免费健身房', '免费下午茶', '一年调薪1次', '一年调薪2次', '15薪', '弹性工作', '地铁周边', '定期团建', '工作居住证', '超长年假', '6险2金'], 'resumeProcessRate': 100, 'resumeProcessDay': 1, 'imState': 'today', 'lastLogin': 1535793300000, 'explain': None, 'plus': None, 'pcShow': 0, 'appShow': 0, 'deliver': 0, 'gradeDescription': None, 'promotionScoreExplain': None, 'firstType': '开发|测试|运维类', 'secondType': '后端开发', 'isSchoolJob': 0, 'subwayline': '昌平线', 'stationname': '上地', 'linestaion': '13号线_上地;13号线_西二旗;昌平线_西二旗'}, {'companyId': 1561, 'positionName': 'Python工程师', 'workYear': '1-3年', 'education': '本科', 'jobNature': '全职', 'companyLogo': 'i/image/M00/8A/62/CgqKkVh1n0eACORfAAAQPSvw5sM235.jpg', 'industryField': '移动互联网,硬件', 'financeStage': 'C轮', 'companySize': '500-2000人', 'city': '北京', 'salary': '20k-40k', 'positionId': 3093928, 'positionAdvantage': '技术驱动,极客氛围,大牛团队', 'companyShortName': 'Face++', 'createTime': '2018-08-23 11:18:36', 'district': '海淀区', 'score': 0, 'approve': 1, 'positionLables': ['后端'], 'industryLables': [], 'publisherId': 39658, 'companyLabelList': ['科技大牛公司', '自助三餐', '年终多薪', '超长带薪假期'], 'businessZones': None, 'longitude': '39.897445', 'latitude': '116.331398', 'formatCreateTime': '2018-08-23', 'companyFullName': '北京旷视科技有限公司', 'adWord': 0, 'hitags': None, 'resumeProcessRate': 100, 'resumeProcessDay': 1, 'imState': 'today', 'lastLogin': 1535795755000, 'explain': None, 'plus': None, 'pcShow': 0, 'appShow': 0, 'deliver': 0, 'gradeDescription': None, 'promotionScoreExplain': None, 'firstType': '开发|测试|运维类', 'secondType': '后端开发', 'isSchoolJob': 0, 'subwayline': None, 'stationname': None, 'linestaion': None}, {'companyId': 1499, 'positionName': 'Python研发工程师', 'workYear': '3-5年', 'education': '本科', 'jobNature': '全职', 'companyLogo': 'i/image2/M00/3A/BA/CgoB5lpPMwSAXdd7AAAKFfX6PoM377.png', 'industryField': '移动互联网,教育', 'financeStage': 'C轮', 'companySize': '2000人以上', 'city': '北京', 'salary': '20k-35k', 'positionId': 5020569, 'positionAdvantage': '地铁周边', 'companyShortName': '学霸君', 'createTime': '2018-09-01 09:18:25', 'district': '朝阳区', 'score': 0, 'approve': 1, 'positionLables': [], 'industryLables': [], 'publisherId': 6584616, 'companyLabelList': ['帅哥多', '美女多', '股票期权', '年底双薪'], 'businessZones': None, 'longitude': '116.487866', 'latitude': '39.999766', 'formatCreateTime': '1天前发布', 'companyFullName': '上海谦问万答吧云计算科技有限公司', 'adWord': 0, 'hitags': None, 'resumeProcessRate': 12, 'resumeProcessDay': 1, 'imState': 'today', 'lastLogin': 1535764683000, 'explain': None, 'plus': None, 'pcShow': 0, 'appShow': 0, 'deliver': 0, 'gradeDescription': None, 'promotionScoreExplain': None, 'firstType': '开发|测试|运维类', 'secondType': '后端开发', 'isSchoolJob': 0, 'subwayline': '15号线', 'stationname': '望京东', 'linestaion': '15号线_望京东'}, {'companyId': 8861, 'positionName': 'Python开发工程师', 'workYear': '1-3年', 'education': '本科', 'jobNature': '全职', 'companyLogo': 'i/image3/M00/33/B0/CgpOIFqmH5iAERXHAAATykToQK4965.jpg', 'industryField': '旅游', 'financeStage': 'B轮', 'companySize': '150-500人', 'city': '天津', 'salary': '8k-16k', 'positionId': 4668566, 'positionAdvantage': '三餐全包,发展空间', 'companyShortName': '妙计旅行', 'createTime': '2018-08-31 22:17:03', 'district': '滨海新区', 'score': 0, 'approve': 1, 'positionLables': ['大数据', 'Java', '算法'], 'industryLables': ['大数据', 'Java', '算法'], 'publisherId': 94565, 'companyLabelList': ['股票期权', '十四薪', '零食饮料水果', '团队氛围好'], 'businessZones': None, 'longitude': '117.679773', 'latitude': '38.996628', 'formatCreateTime': '2天前发布', 'companyFullName': '北京汇行科技有限公司', 'adWord': 0, 'hitags': None, 'resumeProcessRate': 100, 'resumeProcessDay': 1, 'imState': 'overSevenDays', 'lastLogin': 1534392709000, 'explain': None, 'plus': None, 'pcShow': 0, 'appShow': 0, 'deliver': 0, 'gradeDescription': None, 'promotionScoreExplain': None, 'firstType': '开发|测试|运维类', 'secondType': '后端开发', 'isSchoolJob': 0, 'subwayline': None, 'stationname': None, 'linestaion': None}, {'companyId': 16831, 'positionName': 'Python', 'workYear': '3-5年', 'education': '大专', 'jobNature': '全职', 'companyLogo': 'i/image/M00/02/AB/CgqKkVaXX_6AaLKaAAAX52Kvjjg750.jpg', 'industryField': '移动互联网', 'financeStage': '不需要融资', 'companySize': '2000人以上', 'city': '武汉', 'salary': '15k-30k', 'positionId': 3313488, 'positionAdvantage': '牛人团队,薪资高,福利好', 'companyShortName': '武汉佰钧成技术有限公司', 'createTime': '2018-09-01 12:19:31', 'district': '东湖新技术开发区', 'score': 0, 'approve': 1, 'positionLables': ['云计算', '软件开发', 'Linux'], 'industryLables': ['云计算', '软件开发', 'Linux'], 'publisherId': 6115705, 'companyLabelList': ['带薪年假', '计算机软件', '管理规范', '定期体检'], 'businessZones': ['观澜'], 'longitude': '114.538478', 'latitude': '30.489386', 'formatCreateTime': '1天前发布', 'companyFullName': '武汉佰钧成技术有限责任公司', 'adWord': 0, 'hitags': ['免费班车', '试用期上社保', '试用期上公积金', '免费下午茶', '一年调薪1次', '免费体检', '6险1金', '前景无限好', '加班补贴'], 'resumeProcessRate': 0, 'resumeProcessDay': 0, 'imState': 'today', 'lastLogin': 1535774931000, 'explain': None, 'plus': None, 'pcShow': 0, 'appShow': 0, 'deliver': 0, 'gradeDescription': None, 'promotionScoreExplain': None, 'firstType': '开发|测试|运维类', 'secondType': '企业软件', 'isSchoolJob': 0, 'subwayline': None, 'stationname': None, 'linestaion': None}, {'companyId': 202104, 'positionName': 'Python开发工程师', 'workYear': '3-5年', 'education': '本科', 'jobNature': '全职', 'companyLogo': 'i/image3/M00/25/C2/Cgq2xlqXtZ-ATE9tAAAsHI8z3Ns325.png', 'industryField': '移动互联网', 'financeStage': 'B轮', 'companySize': '500-2000人', 'city': '上海', 'salary': '20k-30k', 'positionId': 4609178, 'positionAdvantage': '平均16薪,扁平化管理,弹性工作,福利好', 'companyShortName': '趣头条', 'createTime': '2018-08-31 10:34:21', 'district': '浦东新区', 'score': 0, 'approve': 0, 'positionLables': ['云计算', 'Ruby', '云计算'], 'industryLables': ['云计算', 'Ruby', '云计算'], 'publisherId': 9342353, 'companyLabelList': ['专项奖金', '带薪年假', '弹性工作', '管理规范'], 'businessZones': None, 'longitude': '121.626629', 'latitude': '31.20905', 'formatCreateTime': '2天前发布', 'companyFullName': '上海基分文化传播有限公司', 'adWord': 0, 'hitags': None, 'resumeProcessRate': 13, 'resumeProcessDay': 1, 'imState': 'threeDays', 'lastLogin': 1535683586000, 'explain': None, 'plus': None, 'pcShow': 0, 'appShow': 0, 'deliver': 0, 'gradeDescription': None, 'promotionScoreExplain': None, 'firstType': '开发|测试|运维类', 'secondType': '后端开发', 'isSchoolJob': 0, 'subwayline': '2号线2号线东延', 'stationname': '广兰路', 'linestaion': '2号线2号线东延_广兰路'}, {'companyId': 257650, 'positionName': 'Python开发工程师', 'workYear': '1年以下', 'education': '大专', 'jobNature': '全职', 'companyLogo': 'i/image2/M00/07/74/CgoB5lnMl2iAe8OFAAA16Rpx2MM791.jpg', 'industryField': '移动互联网,数据服务', 'financeStage': '上市公司', 'companySize': '150-500人', 'city': '广州', 'salary': '5k-8k', 'positionId': 4182315, 'positionAdvantage': '双休,提成,五险一金,带薪休假', 'companyShortName': '广州玖维信息科技有限公司', 'createTime': '2018-09-01 10:50:11', 'district': '天河区', 'score': 0, 'approve': 1, 'positionLables': ['Java'], 'industryLables': [], 'publisherId': 8857917, 'companyLabelList': ['年底双薪', '专项奖金', '年终分红', '带薪年假'], 'businessZones': ['天河城', '石牌', '体育中心'], 'longitude': '113.328218', 'latitude': '23.133454', 'formatCreateTime': '1天前发布', 'companyFullName': '广州玖维信息科技有限公司', 'adWord': 0, 'hitags': None, 'resumeProcessRate': 0, 'resumeProcessDay': 0, 'imState': 'today', 'lastLogin': 1535770205000, 'explain': None, 'plus': None, 'pcShow': 0, 'appShow': 0, 'deliver': 0, 'gradeDescription': None, 'promotionScoreExplain': None, 'firstType': '开发|测试|运维类', 'secondType': '后端开发', 'isSchoolJob': 0, 'subwayline': 'APM线', 'stationname': '妇儿中心', 'linestaion': '1号线_体育西路;1号线_体育中心;3号线_体育西路;3号线_石牌桥;3号线_岗顶;3号线(北延段)_林和西;3号线(北延段)_体育西路;APM线_妇儿中心;APM线_黄埔大道;APM线_天河南;APM线_体育中心南;APM线_林和西'}, {'companyId': 22481, 'positionName': 'Python', 'workYear': '1-3年', 'education': '本科', 'jobNature': '全职', 'companyLogo': 'i/image2/M01/79/33/CgoB5ltr__SACuwOAAAuMqoAuHQ169.png', 'industryField': '移动互联网', 'financeStage': 'B轮', 'companySize': '150-500人', 'city': '苏州', 'salary': '6k-12k', 'positionId': 3920817, 'positionAdvantage': '带薪年假,定期体检,五险一金,福利多多', 'companyShortName': '问卷网@爱调研', 'createTime': '2018-08-31 15:28:07', 'district': '工业园区', 'score': 0, 'approve': 1, 'positionLables': ['全栈', '爬虫'], 'industryLables': [], 'publisherId': 6344393, 'companyLabelList': ['技能培训', '节日礼物', '年底双薪', '绩效奖金'], 'businessZones': ['独墅湖', '独墅湖'], 'longitude': '120.732665', 'latitude': '31.264799', 'formatCreateTime': '2天前发布', 'companyFullName': '上海众言网络科技有限公司', 'adWord': 0, 'hitags': None, 'resumeProcessRate': 100, 'resumeProcessDay': 3, 'imState': 'threeDays', 'lastLogin': 1535700473000, 'explain': None, 'plus': None, 'pcShow': 0, 'appShow': 0, 'deliver': 0, 'gradeDescription': None, 'promotionScoreExplain': None, 'firstType': '开发|测试|运维类', 'secondType': '后端开发', 'isSchoolJob': 0, 'subwayline': '2号线', 'stationname': '松涛街', 'linestaion': '2号线_月亮湾;2号线_松涛街'}, {'companyId': 155938, 'positionName': 'Python开发工程师', 'workYear': '3-5年', 'education': '本科', 'jobNature': '全职', 'companyLogo': 'i/image/M00/5C/51/CgpFT1mRP_iAfc_6AACKr_pu-fc180.jpg', 'industryField': '信息安全', 'financeStage': '天使轮', 'companySize': '15-50人', 'city': '苏州', 'salary': '12k-20k', 'positionId': 4209682, 'positionAdvantage': '人工智能,前景广阔,福利齐全,技术领先', 'companyShortName': '苏州锦佰安', 'createTime': '2018-08-30 09:57:52', 'district': '工业园区', 'score': 0, 'approve': 1, 'positionLables': [], 'industryLables': [], 'publisherId': 6415758, 'companyLabelList': ['股票期权', '弹性工作', '带薪年假', '绩效奖金'], 'businessZones': None, 'longitude': '120.733709', 'latitude': '31.254368', 'formatCreateTime': '3天前发布', 'companyFullName': '苏州锦佰安信息技术有限公司', 'adWord': 0, 'hitags': None, 'resumeProcessRate': 0, 'resumeProcessDay': 0, 'imState': 'threeDays', 'lastLogin': 1535620046000, 'explain': None, 'plus': None, 'pcShow': 0, 'appShow': 0, 'deliver': 0, 'gradeDescription': None, 'promotionScoreExplain': None, 'firstType': '开发|测试|运维类', 'secondType': '后端开发', 'isSchoolJob': 0, 'subwayline': '2号线', 'stationname': '独墅湖邻里中心', 'linestaion': '2号线_独墅湖邻里中心;2号线_月亮湾;2号线_松涛街'}, {'companyId': 534, 'positionName': 'Python开发工程师-自动化网络方向', 'workYear': '3-5年', 'education': '本科', 'jobNature': '全职', 'companyLogo': 'i/image2/M01/70/AC/CgoB5ltYG_-AYFOwAAAMVraNaw0666.jpg', 'industryField': '金融', 'financeStage': '上市公司', 'companySize': '2000人以上', 'city': '北京', 'salary': '18k-30k', 'positionId': 5079177, 'positionAdvantage': '班车,餐补', 'companyShortName': '京东金融', 'createTime': '2018-09-01 14:51:24', 'district': '大兴区', 'score': 0, 'approve': 1, 'positionLables': [], 'industryLables': [], 'publisherId': 2081, 'companyLabelList': ['供应链金融', '消费金融', '众筹业务', '支付业务'], 'businessZones': None, 'longitude': '116.564383', 'latitude': '39.786038', 'formatCreateTime': '1天前发布', 'companyFullName': '京东金融', 'adWord': 0, 'hitags': None, 'resumeProcessRate': 100, 'resumeProcessDay': 2, 'imState': 'today', 'lastLogin': 1535804950000, 'explain': None, 'plus': None, 'pcShow': 0, 'appShow': 0, 'deliver': 0, 'gradeDescription': None, 'promotionScoreExplain': None, 'firstType': '开发|测试|运维类', 'secondType': '后端开发', 'isSchoolJob': 0, 'subwayline': '亦庄线', 'stationname': '经海路', 'linestaion': '亦庄线_经海路'}, {'companyId': 154561, 'positionName': 'Python工程师', 'workYear': '1-3年', 'education': '本科', 'jobNature': '全职', 'companyLogo': 'i/image3/M00/3F/A2/CgpOIFqyLtWAIKr3AAA5XxrO2es309.png', 'industryField': '移动互联网', 'financeStage': 'B轮', 'companySize': '50-150人', 'city': '上海', 'salary': '10k-20k', 'positionId': 4969990, 'positionAdvantage': '薪资福利好,技术团队强,氛围好,发展空间大', 'companyShortName': 'MoSeeker仟寻', 'createTime': '2018-08-31 09:32:29', 'district': '徐汇区', 'score': 0, 'approve': 0, 'positionLables': ['MySQL'], 'industryLables': [], 'publisherId': 8734468, 'companyLabelList': ['带薪年假', '定期体检', '年终分红', '节日礼物'], 'businessZones': None, 'longitude': '121.432441', 'latitude': '31.196247', 'formatCreateTime': '2天前发布', 'companyFullName': '上海大岂网络科技有限公司', 'adWord': 0, 'hitags': None, 'resumeProcessRate': 100, 'resumeProcessDay': 1, 'imState': 'threeDays', 'lastLogin': 1535704269000, 'explain': None, 'plus': None, 'pcShow': 0, 'appShow': 0, 'deliver': 0, 'gradeDescription': None, 'promotionScoreExplain': None, 'firstType': '开发|测试|运维类', 'secondType': '后端开发', 'isSchoolJob': 0, 'subwayline': '11号线(花桥)', 'stationname': '虹桥路', 'linestaion': '1号线_徐家汇;3号线_虹桥路;3号线_宜山路;4号线_虹桥路;9号线_徐家汇;9号线_宜山路;10号线(航中路)_交通大学;10号线(航中路)_虹桥路;10号线(虹桥火车站)_交通大学;10号线(虹桥火车站)_虹桥路;11号线(嘉定北)_徐家汇;11号线(嘉定北)_交通大学;11号线(花桥)_徐家汇;11号线(花桥)_交通大学'}, {'companyId': 30648, 'positionName': 'python开发工程师', 'workYear': '1-3年', 'education': '本科', 'jobNature': '全职', 'companyLogo': 'image1/M00/00/45/Cgo8PFTUXNqAI8G5AABrGbu56q4495.png', 'industryField': '信息安全', 'financeStage': '上市公司', 'companySize': '500-2000人', 'city': '西安', 'salary': '9k-15k', 'positionId': 4032786, 'positionAdvantage': '五险一金；弹性工作；餐补；定期体检', 'companyShortName': '绿盟科技', 'createTime': '2018-08-31 09:21:31', 'district': '雁塔区', 'score': 0, 'approve': 1, 'positionLables': ['信息安全'], 'industryLables': ['信息安全'], 'publisherId': 4360892, 'companyLabelList': ['技能培训', '节日礼物', '股票期权', '带薪年假'], 'businessZones': None, 'longitude': '108.86853', 'latitude': '34.195473', 'formatCreateTime': '2天前发布', 'companyFullName': '北京神州绿盟信息安全科技股份有限公司', 'adWord': 0, 'hitags': None, 'resumeProcessRate': 37, 'resumeProcessDay': 1, 'imState': 'threeDays', 'lastLogin': 1535693767000, 'explain': None, 'plus': None, 'pcShow': 0, 'appShow': 0, 'deliver': 0, 'gradeDescription': None, 'promotionScoreExplain': None, 'firstType': '开发|测试|运维类', 'secondType': '后端开发', 'isSchoolJob': 0, 'subwayline': None, 'stationname': None, 'linestaion': None}, {'companyId': 144576, 'positionName': 'Python开发工程师', 'workYear': '3-5年', 'education': '本科', 'jobNature': '全职', 'companyLogo': 'i/image/M00/5A/ED/Cgp3O1ffoHyAUyBeAAAR8ki8dmw574.jpg', 'industryField': '数据服务,移动互联网', 'financeStage': 'A轮', 'companySize': '50-150人', 'city': '北京', 'salary': '18k-22k', 'positionId': 4642285, 'positionAdvantage': '超优质团队,大牛带领,福利多多,发展前景', 'companyShortName': '杉数科技', 'createTime': '2018-08-31 11:04:26', 'district': '东城区', 'score': 0, 'approve': 1, 'positionLables': ['Java', 'MySQL'], 'industryLables': [], 'publisherId': 6144032, 'companyLabelList': ['带薪年假', '午餐补助', '弹性工作', '年度旅游'], 'businessZones': ['和平里', '北新桥', '东直门'], 'longitude': '116.424351', 'latitude': '39.948703', 'formatCreateTime': '2天前发布', 'companyFullName': '杉数科技（北京）有限公司', 'adWord': 0, 'hitags': None, 'resumeProcessRate': 86, 'resumeProcessDay': 1, 'imState': 'threeDays', 'lastLogin': 1535684642000, 'explain': None, 'plus': None, 'pcShow': 0, 'appShow': 0, 'deliver': 0, 'gradeDescription': None, 'promotionScoreExplain': None, 'firstType': '开发|测试|运维类', 'secondType': '后端开发', 'isSchoolJob': 0, 'subwayline': '机场线', 'stationname': '东直门', 'linestaion': '2号线_安定门;2号线_雍和宫;2号线_东直门;5号线_北新桥;5号线_雍和宫;5号线_和平里北街;13号线_柳芳;13号线_东直门;机场线_东直门'}, {'companyId': 299367, 'positionName': 'PYTHON开发', 'workYear': '1-3年', 'education': '本科', 'jobNature': '全职', 'companyLogo': 'i/image/M00/82/81/CgpEMlpUhIWABbeAAACdUAQ70yo188.jpg', 'industryField': '信息安全、移动互联网', 'financeStage': '天使轮', 'companySize': '15-50人', 'city': '郑州', 'salary': '8k-10k', 'positionId': 4946193, 'positionAdvantage': '环境好', 'companyShortName': '戎磐网络', 'createTime': '2018-08-31 08:54:51', 'district': '金水区', 'score': 0, 'approve': 0, 'positionLables': ['信息安全', '后端'], 'industryLables': ['信息安全', '后端'], 'publisherId': 6792859, 'companyLabelList': ['带薪年假', '定期体检', '节日礼物', '五险一金'], 'businessZones': ['东风路', '花园路'], 'longitude': '113.68056', 'latitude': '34.793525', 'formatCreateTime': '2天前发布', 'companyFullName': '上海戎磐网络科技有限公司', 'adWord': 0, 'hitags': None, 'resumeProcessRate': 100, 'resumeProcessDay': 1, 'imState': 'disabled', 'lastLogin': 1535678103000, 'explain': None, 'plus': None, 'pcShow': 0, 'appShow': 0, 'deliver': 0, 'gradeDescription': None, 'promotionScoreExplain': None, 'firstType': '开发|测试|运维类', 'secondType': '后端开发', 'isSchoolJob': 0, 'subwayline': '2号线', 'stationname': '东风路', 'linestaion': '2号线_北三环;2号线_东风路;2号线_关虎屯'}]}}}\n"
     ]
    }
   ],
   "source": [
    "# response.json(): 将json数据转换成字典形式\n",
    "print(type(response.json()))\n",
    "print(response.json())"
   ]
  },
  {
   "cell_type": "markdown",
   "metadata": {},
   "source": [
    "## 3.使用代理"
   ]
  },
  {
   "cell_type": "code",
   "execution_count": 40,
   "metadata": {
    "scrolled": true
   },
   "outputs": [
    {
     "name": "stdout",
     "output_type": "stream",
     "text": [
      "{\n",
      "  \"origin\": \"108.64.57.86\"\n",
      "}\n",
      "\n"
     ]
    }
   ],
   "source": [
    "# 没有使用代理\n",
    "response = requests.get(\"http://httpbin.org/ip\")\n",
    "print(response.text)"
   ]
  },
  {
   "cell_type": "code",
   "execution_count": 48,
   "metadata": {},
   "outputs": [
    {
     "name": "stdout",
     "output_type": "stream",
     "text": [
      "{\n",
      "  \"origin\": \"36.83.93.6\"\n",
      "}\n",
      "\n"
     ]
    }
   ],
   "source": [
    "# 使用代理\n",
    "proxy = {\n",
    "    'http': '36.83.103.233:8080'\n",
    "}\n",
    "response = requests.get(\"http://httpbin.org/ip\", proxies=proxy)\n",
    "print(response.text)"
   ]
  },
  {
   "cell_type": "markdown",
   "metadata": {},
   "source": [
    "## 4.cookie"
   ]
  },
  {
   "cell_type": "code",
   "execution_count": 51,
   "metadata": {},
   "outputs": [
    {
     "name": "stdout",
     "output_type": "stream",
     "text": [
      "{'BDORZ': '27315'}\n"
     ]
    }
   ],
   "source": [
    "response = requests.get(\"https://baidu.com/\")\n",
    "print(response.cookies.get_dict()) #以字典形式获取"
   ]
  },
  {
   "cell_type": "markdown",
   "metadata": {},
   "source": [
    "### session"
   ]
  },
  {
   "cell_type": "code",
   "execution_count": 58,
   "metadata": {},
   "outputs": [],
   "source": [
    "url = \"https://login.uci.edu/ucinetid/webauth?return_url=https%3A%2F%2Feee.uci.edu%2F\"\n",
    "headers = {\n",
    "    'Referer': 'https://www.lagou.com/jobs/list_python?labelWords=&fromSearch=true&suginput=',\n",
    "    'User-Agent': 'Mozilla/5.0 (Macintosh; Intel Mac OS X 10_13_6) AppleWebKit/537.36 (KHTML, like Gecko) Chrome/68.0.3440.106 Safari/537.36'\n",
    "}\n",
    "data = {\n",
    "    'ucinetid': \"longxiad@uci.edu\",\n",
    "    'password': \"Spring15\",\n",
    "    'login_button': 'Login'\n",
    "}\n",
    "session = requests.session()\n",
    "\n",
    "session.post(url, data=data, headers=headers)\n",
    "\n",
    "response = session.get('https://eee.uci.edu/myeee/')\n",
    "with open('eee.html', 'w') as file:\n",
    "    file.write(response.text)"
   ]
  },
  {
   "cell_type": "markdown",
   "metadata": {},
   "source": [
    "## 5.处理不信任的SSL证书"
   ]
  },
  {
   "cell_type": "code",
   "execution_count": 62,
   "metadata": {},
   "outputs": [],
   "source": [
    "url = ''\n",
    "resp = requests.get(url, verify=False)\n",
    "print(resp.content.decode('utf-8'))"
   ]
  },
  {
   "cell_type": "code",
   "execution_count": null,
   "metadata": {},
   "outputs": [],
   "source": []
  }
 ],
 "metadata": {
  "kernelspec": {
   "display_name": "Python 3",
   "language": "python",
   "name": "python3"
  },
  "language_info": {
   "codemirror_mode": {
    "name": "ipython",
    "version": 3
   },
   "file_extension": ".py",
   "mimetype": "text/x-python",
   "name": "python",
   "nbconvert_exporter": "python",
   "pygments_lexer": "ipython3",
   "version": "3.7.0"
  }
 },
 "nbformat": 4,
 "nbformat_minor": 2
}
