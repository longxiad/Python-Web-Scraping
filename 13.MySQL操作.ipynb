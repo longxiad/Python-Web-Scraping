{
 "cells": [
  {
   "cell_type": "markdown",
   "metadata": {},
   "source": [
    "# MySQL操作\n",
    "## 安装mysql\n",
    "1. 在官网: MySQL Community Edition https://dev.mysql.com/downloads/mysql/\n",
    "2. 如果提示没有 ```.NET Framework``` 框架。那么就在提示框中找到下载链接，下载一个就可以了。\n",
    "3. 如果提示没有 ```Microsoft Virtual C++ x64(x86)``` ，那么百度或者谷歌这个软件安装即可。"
   ]
  },
  {
   "cell_type": "markdown",
   "metadata": {},
   "source": [
    "## navicat:\n",
    "navicat是一个操作mysql数据库非常方便的软件。使用他操作数据库，就跟使用excel操作数据是一样的。\n",
    "## 安装驱动程序\n",
    "Python要想操作MySQL。必须要有一个中间件，或者叫做驱动程序。驱动程序有很多。比如有 ```mysqldb``` 、 ```mysqlclient``` 、 ```pymysql``` 等。在这里，我们选择用 ```pymysql``` 。 安装方式也是非常简单，通过命令 ```pip install pymysql``` 即可安装。\n",
    "## 数据库连接：\n",
    "数据库连接之前。首先先确认一下工作完成，这里我们以一个 ```pymysql_test``` 数据库以下将介绍连接 ```mysql``` 的示例代码："
   ]
  },
  {
   "cell_type": "code",
   "execution_count": 5,
   "metadata": {},
   "outputs": [
    {
     "name": "stdout",
     "output_type": "stream",
     "text": [
      "(1,)\n"
     ]
    }
   ],
   "source": [
    "import pymysql\n",
    "conn = pymysql.connect(host='localhost',\n",
    "                       user='root',\n",
    "                       password='Aa0650133',\n",
    "                       database='pymysql_demo',\n",
    "                       port=3306)\n",
    "cursor = conn.cursor()\n",
    "\n",
    "# 测试一下是否连接成功\n",
    "cursor.execute(\"select *\")\n",
    "result = cursor.fetchone()\n",
    "print(result)\n",
    "\n",
    "conn.close()"
   ]
  },
  {
   "cell_type": "markdown",
   "metadata": {},
   "source": [
    "## 插入数据："
   ]
  },
  {
   "cell_type": "code",
   "execution_count": 7,
   "metadata": {},
   "outputs": [],
   "source": [
    "conn = pymysql.connect(host='localhost',\n",
    "                       user='root',\n",
    "                       password='Aa0650133',\n",
    "                       database='pymysql_demo',\n",
    "                       port=3306)\n",
    "\n",
    "cursor = conn.cursor()\n",
    "# insert into user(id, username, age, password) values(2, 'bbb', 20, '111111')\n",
    "# 这里的主键：id 必须要唯一，不能重复\n",
    "\n",
    "sql = \"\"\"\n",
    "insert into user(id, username, age, password) values(2, 'bbb', 20, '111111')\n",
    "\"\"\"\n",
    "cursor.execute(sql)\n",
    "conn.commit()\n",
    "\n",
    "conn.close()"
   ]
  },
  {
   "cell_type": "code",
   "execution_count": 8,
   "metadata": {},
   "outputs": [],
   "source": [
    "# 如果要插入的信息是变量\n",
    "conn = pymysql.connect(host='localhost',\n",
    "                       user='root',\n",
    "                       password='Aa0650133',\n",
    "                       database='pymysql_demo',\n",
    "                       port=3306)\n",
    "\n",
    "cursor = conn.cursor()\n",
    "\n",
    "# id=null, 就会默认增长\n",
    "# 在这个语句里，所有的变量都得写成%s，因为pymysql会把所有东西都处理成字符串\n",
    "sql = \"\"\"\n",
    "insert into user(id, username, age, password) values(null, %s, %s, %s)\n",
    "\"\"\"\n",
    "# 变量\n",
    "username = 'spider'\n",
    "age = 21\n",
    "password = '12345'\n",
    "# 传入参数\n",
    "cursor.execute(sql, (username, age, password))\n",
    "conn.commit()\n",
    "\n",
    "conn.close()"
   ]
  },
  {
   "cell_type": "markdown",
   "metadata": {},
   "source": [
    "## 查找数据：\n",
    "使用 ```pymysql``` 查询数据，可以使用 ```fetch``` 方法。\n",
    "1. ```fetchone()``` : 这个方法每次只获取一条数据。\n",
    "2. ```fetchall()``` : 这个方法接受全部的返回结果。\n",
    "3. ```fetchmany(size)``` : 可以获取指定条数的数据。"
   ]
  },
  {
   "cell_type": "markdown",
   "metadata": {},
   "source": [
    "### fetchone()"
   ]
  },
  {
   "cell_type": "code",
   "execution_count": 19,
   "metadata": {},
   "outputs": [
    {
     "name": "stdout",
     "output_type": "stream",
     "text": [
      "('spider', 21)\n",
      "(1, 'aaa', 18, '111111')\n",
      "(2, 'bbb', 20, '111111')\n"
     ]
    }
   ],
   "source": [
    "conn = pymysql.connect(host='localhost',\n",
    "                       user='root',\n",
    "                       password='Aa0650133',\n",
    "                       database='pymysql_demo',\n",
    "                       port=3306)\n",
    "\n",
    "cursor = conn.cursor()\n",
    "\n",
    "# select username, age from user where id=1\n",
    "sql = \"\"\"\n",
    "select username, age from user where id=3\n",
    "\"\"\"\n",
    "cursor.execute(sql)\n",
    "result = cursor.fetchone() #fetchone 找出一条\n",
    "print(result)\n",
    "\n",
    "# select * from user\n",
    "sql = \"\"\"\n",
    "select * from user\n",
    "\"\"\"\n",
    "cursor.execute(sql)\n",
    "result = cursor.fetchone() #fetchone 第一次找第一条\n",
    "print(result)\n",
    "result = cursor.fetchone() #fetchOne 第二次找第二条\n",
    "print(result)\n",
    "\n",
    "conn.close()"
   ]
  },
  {
   "cell_type": "code",
   "execution_count": 22,
   "metadata": {},
   "outputs": [
    {
     "name": "stdout",
     "output_type": "stream",
     "text": [
      "(1, 'aaa', 18, '111111')\n",
      "(2, 'bbb', 20, '111111')\n",
      "(3, 'spider', 21, '12345')\n"
     ]
    }
   ],
   "source": [
    "# 找出所有\n",
    "conn = pymysql.connect(host='localhost',\n",
    "                       user='root',\n",
    "                       password='Aa0650133',\n",
    "                       database='pymysql_demo',\n",
    "                       port=3306)\n",
    "\n",
    "cursor = conn.cursor()\n",
    "sql = \"\"\"\n",
    "select * from user\n",
    "\"\"\"\n",
    "cursor.execute(sql)\n",
    "while True:\n",
    "    result = cursor.fetchone()\n",
    "    if result:\n",
    "        print(result)\n",
    "    else: #if null\n",
    "        break\n",
    "conn.close()"
   ]
  },
  {
   "cell_type": "markdown",
   "metadata": {},
   "source": [
    "### fetchall()"
   ]
  },
  {
   "cell_type": "code",
   "execution_count": 25,
   "metadata": {},
   "outputs": [
    {
     "name": "stdout",
     "output_type": "stream",
     "text": [
      "(1, 'aaa', 18, '111111')\n",
      "(2, 'bbb', 20, '111111')\n",
      "(3, 'spider', 21, '12345')\n"
     ]
    }
   ],
   "source": [
    "conn = pymysql.connect(host='localhost',\n",
    "                       user='root',\n",
    "                       password='Aa0650133',\n",
    "                       database='pymysql_demo',\n",
    "                       port=3306)\n",
    "\n",
    "cursor = conn.cursor()\n",
    "sql = \"\"\"\n",
    "select * from user\n",
    "\"\"\"\n",
    "cursor.execute(sql)\n",
    "results = cursor.fetchall() #fetchall 找出所有\n",
    "for result in results:\n",
    "    print(result)\n",
    "conn.close()"
   ]
  },
  {
   "cell_type": "markdown",
   "metadata": {},
   "source": [
    "### fetchmany(size)"
   ]
  },
  {
   "cell_type": "code",
   "execution_count": 28,
   "metadata": {},
   "outputs": [
    {
     "name": "stdout",
     "output_type": "stream",
     "text": [
      "(1, 'aaa', 18, '111111')\n",
      "(2, 'bbb', 20, '111111')\n"
     ]
    }
   ],
   "source": [
    "conn = pymysql.connect(host='localhost',\n",
    "                       user='root',\n",
    "                       password='Aa0650133',\n",
    "                       database='pymysql_demo',\n",
    "                       port=3306)\n",
    "\n",
    "cursor = conn.cursor()\n",
    "sql = \"\"\"\n",
    "select * from user\n",
    "\"\"\"\n",
    "cursor.execute(sql)\n",
    "results = cursor.fetchmany(2) #fetchmany 找出指定数量\n",
    "for result in results:\n",
    "    print(result)\n",
    "conn.close()"
   ]
  },
  {
   "cell_type": "markdown",
   "metadata": {},
   "source": [
    "## 删除数据："
   ]
  },
  {
   "cell_type": "code",
   "execution_count": 29,
   "metadata": {},
   "outputs": [],
   "source": [
    "conn = pymysql.connect(host='localhost',\n",
    "                       user='root',\n",
    "                       password='Aa0650133',\n",
    "                       database='pymysql_demo',\n",
    "                       port=3306)\n",
    "\n",
    "cursor = conn.cursor()\n",
    "sql = \"\"\"\n",
    "delete from user where id=1\n",
    "\"\"\"\n",
    "cursor.execute(sql)\n",
    "# 插入、删除、更新都需要执行commit操作\n",
    "conn.commit()\n",
    "\n",
    "conn.close()"
   ]
  },
  {
   "cell_type": "markdown",
   "metadata": {},
   "source": [
    "## 更新数据："
   ]
  },
  {
   "cell_type": "code",
   "execution_count": 30,
   "metadata": {},
   "outputs": [],
   "source": [
    "conn = pymysql.connect(host='localhost',\n",
    "                       user='root',\n",
    "                       password='Aa0650133',\n",
    "                       database='pymysql_demo',\n",
    "                       port=3306)\n",
    "\n",
    "cursor = conn.cursor()\n",
    "sql = \"\"\"\n",
    "update user set username='aaa' where id=2\n",
    "\"\"\"\n",
    "cursor.execute(sql)\n",
    "conn.commit()\n",
    "\n",
    "conn.close()"
   ]
  },
  {
   "cell_type": "code",
   "execution_count": null,
   "metadata": {},
   "outputs": [],
   "source": []
  }
 ],
 "metadata": {
  "kernelspec": {
   "display_name": "Python 3",
   "language": "python",
   "name": "python3"
  },
  "language_info": {
   "codemirror_mode": {
    "name": "ipython",
    "version": 3
   },
   "file_extension": ".py",
   "mimetype": "text/x-python",
   "name": "python",
   "nbconvert_exporter": "python",
   "pygments_lexer": "ipython3",
   "version": "3.6.5"
  }
 },
 "nbformat": 4,
 "nbformat_minor": 2
}
