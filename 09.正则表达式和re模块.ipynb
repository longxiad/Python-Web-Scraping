{
 "cells": [
  {
   "cell_type": "markdown",
   "metadata": {},
   "source": [
    "## 什么是正则表达式(Regular Expression)：\n",
    "通俗理解：按照一定的规则，从某个字符串中匹配出想要的数据。这个规则是正则表达式。  \n",
    "标准答案：https://baike.baidu.com/item/%E6%AD%A3%E5%88%99%E8%A1%A8%E8%BE%BE%E5%BC%8F"
   ]
  },
  {
   "cell_type": "markdown",
   "metadata": {},
   "source": [
    "## 正则表达式常用匹配规则："
   ]
  },
  {
   "cell_type": "code",
   "execution_count": 2,
   "metadata": {},
   "outputs": [],
   "source": [
    "import re"
   ]
  },
  {
   "cell_type": "markdown",
   "metadata": {},
   "source": [
    "### 匹配单个字符"
   ]
  },
  {
   "cell_type": "code",
   "execution_count": 2,
   "metadata": {},
   "outputs": [
    {
     "name": "stdout",
     "output_type": "stream",
     "text": [
      "he\n"
     ]
    }
   ],
   "source": [
    "# 1.匹配某个字符串\n",
    "text = 'hello' #如果是“ahello'，匹配结果为null，null打印不出来就会报错\n",
    "ret = re.match('he', text)\n",
    "print(ret.group())"
   ]
  },
  {
   "cell_type": "code",
   "execution_count": 3,
   "metadata": {},
   "outputs": [
    {
     "name": "stdout",
     "output_type": "stream",
     "text": [
      "a\n"
     ]
    }
   ],
   "source": [
    "# 2.点(.)匹配任意的字符\n",
    "text = 'ab' #如果是换行符'\\n',匹配结果为null，null打印不出来就会报错\n",
    "ret = re.match('.', text)\n",
    "print(ret.group())"
   ]
  },
  {
   "cell_type": "code",
   "execution_count": 5,
   "metadata": {},
   "outputs": [
    {
     "name": "stdout",
     "output_type": "stream",
     "text": [
      "1\n"
     ]
    }
   ],
   "source": [
    "# 3.\\d匹配任意的数字（0-9）Digit\n",
    "text = '1' #如果是换行符'a',匹配结果为null，null打印不出来就会报错\n",
    "ret = re.match('\\d', text)\n",
    "print(ret.group())"
   ]
  },
  {
   "cell_type": "code",
   "execution_count": 5,
   "metadata": {},
   "outputs": [
    {
     "name": "stdout",
     "output_type": "stream",
     "text": [
      "+\n"
     ]
    }
   ],
   "source": [
    "# 4.\\D匹配任意的非数字 non-Digit\n",
    "text = '+' #如果是换行符'1',匹配结果为null，null打印不出来就会报错\n",
    "ret = re.match('\\D', text)\n",
    "print(ret.group())"
   ]
  },
  {
   "cell_type": "code",
   "execution_count": 8,
   "metadata": {},
   "outputs": [
    {
     "name": "stdout",
     "output_type": "stream",
     "text": [
      "\n",
      "\n"
     ]
    }
   ],
   "source": [
    "# 5.\\s匹配任意空白字符（包括：\\n, \\t, \\r, 空格) white space\n",
    "text = '\\nab' #如果是换行符'ab',匹配结果为null，null打印不出来就会报错\n",
    "ret = re.match('\\s', text)\n",
    "print(ret.group()) #空白字符打印出来看不到而已，但是已经匹配到了"
   ]
  },
  {
   "cell_type": "code",
   "execution_count": null,
   "metadata": {},
   "outputs": [],
   "source": [
    "# \\S non-white space"
   ]
  },
  {
   "cell_type": "code",
   "execution_count": 7,
   "metadata": {},
   "outputs": [
    {
     "name": "stdout",
     "output_type": "stream",
     "text": [
      "_\n"
     ]
    }
   ],
   "source": [
    "# 6.\\w匹配的是a-z和A-Z以及数字和下划线 alphanumeric( or underscore)[a-zA-Z0-9_]\n",
    "text = '_' #如果是换行符'+',匹配结果为null，null打印不出来就会报错\n",
    "ret = re.match('\\w', text)\n",
    "print(ret.group())"
   ]
  },
  {
   "cell_type": "code",
   "execution_count": 8,
   "metadata": {},
   "outputs": [
    {
     "name": "stdout",
     "output_type": "stream",
     "text": [
      "+\n"
     ]
    }
   ],
   "source": [
    "# 7.\\W匹配的是是和\\w相反的 non-alphanumeric[^a-zA-Z0-9_]\n",
    "text = '+' #如果是换行符'_',匹配结果为null，null打印不出来就会报错\n",
    "ret = re.match('\\W', text)\n",
    "print(ret.group())"
   ]
  },
  {
   "cell_type": "code",
   "execution_count": 12,
   "metadata": {},
   "outputs": [
    {
     "name": "stdout",
     "output_type": "stream",
     "text": [
      "0731-88888888\n"
     ]
    }
   ],
   "source": [
    "# 8.[]组合的方式，只要满足中括号中的字符。就可以匹配\n",
    "text = '0731-88888888' #区号+电话号码\n",
    "# + 代表找出match的多个字符\n",
    "# \\d-: 可以使任意的数字或者横杠-符号\n",
    "ret = re.match('[\\d\\-]+', text) #'\\-'：因为-本来就有指定范围的用处\n",
    "print(ret.group())"
   ]
  },
  {
   "cell_type": "code",
   "execution_count": 10,
   "metadata": {},
   "outputs": [
    {
     "name": "stdout",
     "output_type": "stream",
     "text": [
      "0\n",
      "09\n"
     ]
    }
   ],
   "source": [
    "# 8.1. 中括号的形式代替\\d\n",
    "text = \"09\"\n",
    "ret = re.match('[0-9]', text) #匹配0-9数字\n",
    "print(ret.group())\n",
    "\n",
    "ret = re.match('[0-9]+', text) #匹配0-9数字的多个字符\n",
    "print(ret.group())"
   ]
  },
  {
   "cell_type": "code",
   "execution_count": 11,
   "metadata": {},
   "outputs": [
    {
     "name": "stdout",
     "output_type": "stream",
     "text": [
      "a\n"
     ]
    }
   ],
   "source": [
    "# 8.2. 中括号的形式代替\\D\n",
    "text = \"a\"\n",
    "ret = re.match('[^0-9]', text) \n",
    "print(ret.group())"
   ]
  },
  {
   "cell_type": "code",
   "execution_count": 12,
   "metadata": {},
   "outputs": [
    {
     "name": "stdout",
     "output_type": "stream",
     "text": [
      "_\n"
     ]
    }
   ],
   "source": [
    "# 8.3. 中括号的形式代替\\w\n",
    "text = \"_\"\n",
    "ret = re.match('[a-xA-Z0-9_]', text) \n",
    "print(ret.group())"
   ]
  },
  {
   "cell_type": "code",
   "execution_count": 13,
   "metadata": {},
   "outputs": [
    {
     "name": "stdout",
     "output_type": "stream",
     "text": [
      "+\n"
     ]
    }
   ],
   "source": [
    "# 8.4. 中括号的形式代替\\W\n",
    "text = \"+\"\n",
    "ret = re.match('[^a-xA-Z0-9_]', text) \n",
    "print(ret.group())"
   ]
  },
  {
   "cell_type": "markdown",
   "metadata": {},
   "source": [
    "### 匹配多个字符"
   ]
  },
  {
   "cell_type": "code",
   "execution_count": 15,
   "metadata": {},
   "outputs": [
    {
     "name": "stdout",
     "output_type": "stream",
     "text": [
      "\n"
     ]
    }
   ],
   "source": [
    "# 9. *：可以匹配0或者任意多个字符 a+ == aa*\n",
    "text = \"abcd\"\n",
    "ret = re.match('\\s*',text) \n",
    "print(ret.group())"
   ]
  },
  {
   "cell_type": "code",
   "execution_count": 15,
   "metadata": {},
   "outputs": [
    {
     "name": "stdout",
     "output_type": "stream",
     "text": [
      "abcd\n"
     ]
    }
   ],
   "source": [
    "# 10. +：可以匹配1或者任意多个字符\n",
    "text = \"abcd\" #”+abcd“就不行\n",
    "ret = re.match('\\w+',text) \n",
    "print(ret.group())"
   ]
  },
  {
   "cell_type": "code",
   "execution_count": 16,
   "metadata": {},
   "outputs": [
    {
     "name": "stdout",
     "output_type": "stream",
     "text": [
      "\n"
     ]
    }
   ],
   "source": [
    "# 11. ?：可以匹配1或者0个字符（要么没有，要么就只有一个） R{0,1} == R? \n",
    "text = \"+abcd\"\n",
    "ret = re.match('\\w?',text)\n",
    "print(ret.group())"
   ]
  },
  {
   "cell_type": "code",
   "execution_count": 17,
   "metadata": {},
   "outputs": [
    {
     "name": "stdout",
     "output_type": "stream",
     "text": [
      "ab\n"
     ]
    }
   ],
   "source": [
    "# 12. {m}：可以匹配m个字符\n",
    "text = \"abcd\"\n",
    "ret = re.match('\\w{2}',text) \n",
    "print(ret.group())"
   ]
  },
  {
   "cell_type": "code",
   "execution_count": 18,
   "metadata": {},
   "outputs": [
    {
     "name": "stdout",
     "output_type": "stream",
     "text": [
      "abcda\n"
     ]
    }
   ],
   "source": [
    "# 13. {m,n}：可以匹配m-n个字符\n",
    "text = \"abcdab\"\n",
    "ret = re.match('\\w{1,5}',text)  # 匹配 1 - 5 个字符\n",
    "print(ret.group())"
   ]
  },
  {
   "cell_type": "markdown",
   "metadata": {},
   "source": [
    "### 小案例"
   ]
  },
  {
   "cell_type": "code",
   "execution_count": 19,
   "metadata": {},
   "outputs": [
    {
     "name": "stdout",
     "output_type": "stream",
     "text": [
      "18578900987\n"
     ]
    }
   ],
   "source": [
    "# 14. 验证手机号码\n",
    "text = \"18578900987\"\n",
    "# 第一位必须是1\n",
    "# 前两位可以是：13，14，15，17，18\n",
    "# 后面9位是数字所以 \\d{9}\n",
    "ret = re.match('1[34578]\\d{9}',text) \n",
    "print(ret.group())"
   ]
  },
  {
   "cell_type": "code",
   "execution_count": 20,
   "metadata": {},
   "outputs": [
    {
     "name": "stdout",
     "output_type": "stream",
     "text": [
      "hynever@qq.com\n",
      "hy_never@163.com\n"
     ]
    }
   ],
   "source": [
    "# 15. 验证邮箱\n",
    "text1 = \"hynever@qq.com\"\n",
    "text2 = \"hy_never@163.com\"\n",
    "# \\w数字或者符号或者_\n",
    "# +至少一个\n",
    "# 一定要有@\n",
    "# 邮箱地址里有.\n",
    "ret = re.match('\\w+@[a-z0-9]+\\.[a-z]+',text1)\n",
    "print(ret.group())\n",
    "ret = re.match('\\w+@[a-z0-9]+\\.[a-z]+',text2)\n",
    "print(ret.group())"
   ]
  },
  {
   "cell_type": "code",
   "execution_count": 21,
   "metadata": {},
   "outputs": [
    {
     "name": "stdout",
     "output_type": "stream",
     "text": [
      "https://baike.baidu.com/item/%E6%AD%A3%E5%88%99%E8%A1%A8%E8%BE%BE%E5%BC%8F\n"
     ]
    }
   ],
   "source": [
    "# 16. 验证url\n",
    "# URL的规则是前面是http或者https或者是ftp然后加上一个冒号，\n",
    "# 再加上两个斜杠，,再后面就是可以出现任意非空白字符了。\n",
    "text = \"https://baike.baidu.com/item/%E6%AD%A3%E5%88%99%E8%A1%A8%E8%BE%BE%E5%BC%8F\"\n",
    "# | 竖杠是或者的意思\n",
    "ret = re.match('(http|https|ftp)://[^\\s]+',text) \n",
    "print(ret.group())"
   ]
  },
  {
   "cell_type": "code",
   "execution_count": 22,
   "metadata": {},
   "outputs": [
    {
     "name": "stdout",
     "output_type": "stream",
     "text": [
      "33102319931116044X\n"
     ]
    }
   ],
   "source": [
    "# 17. 验证身份证\n",
    "# 总共18位，前面十七位是数字，最后一位可以使数字，也可以使小写的x，\n",
    "# 也可以是大写的X。\n",
    "text = \"33102319931116044X\"\n",
    "ret = re.match('\\d{17}[\\dxX]', text) #或者ret = re.match('\\d{17}(\\d|x|X)', text)\n",
    "print(ret.group())"
   ]
  },
  {
   "cell_type": "code",
   "execution_count": 23,
   "metadata": {},
   "outputs": [
    {
     "name": "stdout",
     "output_type": "stream",
     "text": [
      "h\n",
      "h\n"
     ]
    }
   ],
   "source": [
    "# 18. ^(脱字号):表示以...开始\n",
    "text = \"hello\"\n",
    "ret = re.match('^h', text) #其实等同于ret = re.match('h', text)\n",
    "print(ret.group())\n",
    "\n",
    "# 在serch里\n",
    "text = \"hello\"\n",
    "ret = re.search('^h', text) #等同于上面 # ^使search失去效果\n",
    "print(ret.group())"
   ]
  },
  {
   "cell_type": "code",
   "execution_count": 41,
   "metadata": {},
   "outputs": [
    {
     "name": "stdout",
     "output_type": "stream",
     "text": [
      "xxx@163.com\n"
     ]
    }
   ],
   "source": [
    "# 19. $:表示以...结尾\n",
    "text = \"xxx@163.com\"\n",
    "ret = re.match('\\w+@163.com$', text) #以@163.com结尾\n",
    "print(ret.group())"
   ]
  },
  {
   "cell_type": "code",
   "execution_count": 47,
   "metadata": {},
   "outputs": [
    {
     "name": "stdout",
     "output_type": "stream",
     "text": [
      "https\n"
     ]
    }
   ],
   "source": [
    "# 20. |:匹配多个字符串或者表达式：a(b|c|d)e  == a[bcd]e\n",
    "# (...)分组\n",
    "# (?P<name>...) 分组带名字\n",
    "# (?:...) 不分组,但是看做一个整体\n",
    "\n",
    "# 这里我们想说 fttp | http | https 而不是 ...| ...| https$ 所以用括号区分开\n",
    "text = \"https\"\n",
    "ret = re.match('(?:fttp|http|https)$', text)\n",
    "print(ret.group())"
   ]
  },
  {
   "cell_type": "code",
   "execution_count": null,
   "metadata": {},
   "outputs": [],
   "source": []
  },
  {
   "cell_type": "code",
   "execution_count": 49,
   "metadata": {},
   "outputs": [
    {
     "name": "stdout",
     "output_type": "stream",
     "text": [
      "0123456\n",
      "0\n"
     ]
    }
   ],
   "source": [
    "# 21. 贪婪模式与非贪婪模式：\n",
    "# 贪婪模式：会尽量地去匹配多的字符 ?\n",
    "text = \"0123456\"\n",
    "ret = re.match('\\d+', text)\n",
    "print(ret.group())\n",
    "# 非贪婪模式：只会匹配一个字符\n",
    "text = \"0123456\"\n",
    "ret = re.match('\\d+?', text)\n",
    "print(ret.group())"
   ]
  },
  {
   "cell_type": "code",
   "execution_count": 58,
   "metadata": {},
   "outputs": [
    {
     "name": "stdout",
     "output_type": "stream",
     "text": [
      "<h1>标题</h1>\n",
      "<h1>\n"
     ]
    }
   ],
   "source": [
    "text = \"<h1>标题</h1>\"\n",
    "# 在贪婪模式下\n",
    "ret = re.match('<.+>', text)\n",
    "print(ret.group())\n",
    "# 在非贪婪模式下\n",
    "ret = re.match('<.+?>', text)\n",
    "print(ret.group())"
   ]
  },
  {
   "cell_type": "code",
   "execution_count": 82,
   "metadata": {},
   "outputs": [
    {
     "name": "stdout",
     "output_type": "stream",
     "text": [
      "100\n"
     ]
    }
   ],
   "source": [
    "# 22.匹配0-100之间的数字\n",
    "# 可以出现的： 1, 2, 3, 10, 100, 99\n",
    "# 有三种情况：1, 99, 11\n",
    "# 不可以出现的： 09, 101\n",
    "text = \"100\"\n",
    "ret = re.match('[1-9]\\d?$|100$', text) \n",
    "#没有第1个$的话“100”会匹配出10\n",
    "#没有第2个$的话会\"1001\"匹配出1001\n",
    "print(ret.group())"
   ]
  },
  {
   "cell_type": "code",
   "execution_count": 98,
   "metadata": {},
   "outputs": [
    {
     "data": {
      "text/plain": [
       "'1199'"
      ]
     },
     "execution_count": 98,
     "metadata": {},
     "output_type": "execute_result"
    }
   ],
   "source": [
    "\"11{:d}\".format(99)"
   ]
  },
  {
   "cell_type": "code",
   "execution_count": 122,
   "metadata": {},
   "outputs": [
    {
     "name": "stdout",
     "output_type": "stream",
     "text": [
      "$299\n",
      "\\n\n"
     ]
    }
   ],
   "source": [
    "# 23.转义字符和原生字符串：\n",
    "# \\转义字符:去除符号本身的意义\n",
    "text = \"apple price is $299\"\n",
    "ret = re.search(\"\\$\\d+\" ,text)\n",
    "print(ret.group())\n",
    "\n",
    "# 原生字串：\n",
    "# \\ 或者 r: raw\n",
    "text = \"\\\\n\" #='\\n'    #可以写成r\"\\n\" \n",
    "# python: '\\\\n' = \\n\n",
    "# \\\\\\\\n => \\\\n\n",
    "# 正则表达式： \\n =\n",
    "# \\\\n => \\n\n",
    "ret = re.search(\"\\\\\\\\n\" ,text)\n",
    "print(ret.group())"
   ]
  },
  {
   "cell_type": "code",
   "execution_count": 289,
   "metadata": {},
   "outputs": [
    {
     "name": "stdout",
     "output_type": "stream",
     "text": [
      "\\c\n",
      "\\c\n"
     ]
    }
   ],
   "source": [
    "text = \"\\c\"\n",
    "ret = re.search(\"\\\\\\\\c\" ,text)\n",
    "print(ret.group())\n",
    "#或者\n",
    "ret = re.search(r\"\\\\c\" ,text) #加r以后就不会对\\\\进行解译了\n",
    "print(ret.group())"
   ]
  },
  {
   "cell_type": "markdown",
   "metadata": {},
   "source": [
    "### match函数\n",
    "从开始的位置进行匹配。如果开始的位置没有匹配到。就直接失败了。示例代码如下：\n",
    "```python\n",
    "text = 'hello'\n",
    "ret = re.match('h', text)\n",
    "print(ret.group())\n",
    ">> h\n",
    "```\n",
    "如果第一字母不是```h```，那么就会失败。示例代码如下：\n",
    "```python\n",
    "text = 'ahello'\n",
    "ret = re.match('h', text)\n",
    "print(ret.group())\n",
    ">> AttributeError: 'NoneType' object has no attribute 'group'\n",
    "```\n",
    "如果想要匹配换行的数据，那么就要传入一个```flag=re.DOTALL```，就可以匹配换行符了。示例代码如下：\n",
    "```python\n",
    "text = 'abc\\nabc'\n",
    "ret = re.match('abc.*abc', text, re.DOTALL)\n",
    "print(ret.group())\n",
    ">> abc\n",
    "   abc\n",
    "```"
   ]
  },
  {
   "cell_type": "markdown",
   "metadata": {},
   "source": [
    "### search函数\n",
    "在字符串中找满足条件的字符。如果找到，就返回。说白了，就是只会找到第一个满足条件的。"
   ]
  },
  {
   "cell_type": "markdown",
   "metadata": {},
   "source": [
    "### 分组\n",
    "在正则表达式中，可以对过滤到的字符串进行分组。分组使用圆括号的方式。\n",
    "1. ```group```: 和```group(0)```是等价的，返回的是整个满足条件的字符串。\n",
    "2. ```groups```: 返回的是里面的自己。索引从1开始。\n",
    "3. ```group(1)```: 返回的是第一个自足，可以传入多个。\n",
    "示例代码如下：\n",
    "\n",
    "```python\n",
    "text = \"apple price is $99, orange price is $10\"\n",
    "ret = re.search('.*(\\$\\d+).*(\\$\\d+)', text)\n",
    "print(ret.group())\n",
    "```\n",
    "```\n",
    ">> apple price $99, orange price is $10\n",
    "```"
   ]
  },
  {
   "cell_type": "markdown",
   "metadata": {},
   "source": [
    "```python\n",
    "print(ret.group(1))\n",
    "```\n",
    "```\n",
    ">> $99\n",
    "```"
   ]
  },
  {
   "cell_type": "markdown",
   "metadata": {},
   "source": [
    "```python\n",
    "print(ret.group(2))\n",
    "```\n",
    "```\n",
    ">> $10\n",
    "```"
   ]
  },
  {
   "cell_type": "markdown",
   "metadata": {},
   "source": [
    "### findall函数：\n",
    "找出所有满足条件的，返回的是一个列表"
   ]
  },
  {
   "cell_type": "code",
   "execution_count": 162,
   "metadata": {},
   "outputs": [
    {
     "name": "stdout",
     "output_type": "stream",
     "text": [
      "['$99', '$10']\n"
     ]
    }
   ],
   "source": [
    "text = \"apple's price $99, orange's price is $10\"\n",
    "ret = re.findall('\\$\\d+', text)\n",
    "print(ret)"
   ]
  },
  {
   "cell_type": "markdown",
   "metadata": {},
   "source": [
    "### sub函数：\n",
    "用来替换字符串。将匹配到的字符串替换为其他字符串。"
   ]
  },
  {
   "cell_type": "code",
   "execution_count": 48,
   "metadata": {},
   "outputs": [
    {
     "name": "stdout",
     "output_type": "stream",
     "text": [
      "apple's price 0, orange's price is 0\n",
      "apple's price $99, orange's price is $10\n"
     ]
    }
   ],
   "source": [
    "text = \"apple's price $99, orange's price is $10\"\n",
    "ret = re.sub('\\$\\d+', '0', text) #默认替换所有满足的字符\n",
    "print(ret)\n",
    "print(text)"
   ]
  },
  {
   "cell_type": "code",
   "execution_count": 171,
   "metadata": {},
   "outputs": [],
   "source": [
    "html = \"\"\"\n",
    "<dd class=\"job_bt\">\n",
    "        <h3 class=\"description\">职位描述：</h3>\n",
    "        <div>\n",
    "        <p>参与公司新一代面向生命科学行业云服务应用及平台的开发。</p>\n",
    "<p><br></p>\n",
    "<p>【工作职责】</p>\n",
    "<p>云服务软件产品的架构设计与开发</p>\n",
    "<p>与设计、产品及前端人员沟通，保证产品的质量和开发进度</p>\n",
    "<p>研究新兴技术，对产品进行持续优化</p>\n",
    "<p><br></p>\n",
    "<p>【职位要求】</p>\n",
    "<p>计算机相关专业本科及以上学历</p>\n",
    "<p>对常见数据结构和面向对象设计有深入理解</p>\n",
    "<p>熟练掌握Python语言，3年以上实际经验</p>\n",
    "<p>熟悉Python Web开发框架如Django</p>\n",
    "<p>熟练掌握数据库开发和设计</p>\n",
    "<p>基本的英文读写能力</p>\n",
    "\n",
    "        </div>\n",
    "    </dd>\n",
    "\"\"\""
   ]
  },
  {
   "cell_type": "code",
   "execution_count": 175,
   "metadata": {},
   "outputs": [
    {
     "name": "stdout",
     "output_type": "stream",
     "text": [
      "\n",
      "\n",
      "        职位描述：\n",
      "        \n",
      "        参与公司新一代面向生命科学行业云服务应用及平台的开发。\n",
      "\n",
      "【工作职责】\n",
      "云服务软件产品的架构设计与开发\n",
      "与设计、产品及前端人员沟通，保证产品的质量和开发进度\n",
      "研究新兴技术，对产品进行持续优化\n",
      "\n",
      "【职位要求】\n",
      "计算机相关专业本科及以上学历\n",
      "对常见数据结构和面向对象设计有深入理解\n",
      "熟练掌握Python语言，3年以上实际经验\n",
      "熟悉Python Web开发框架如Django\n",
      "熟练掌握数据库开发和设计\n",
      "基本的英文读写能力\n",
      "\n",
      "        \n",
      "    \n",
      "\n"
     ]
    }
   ],
   "source": [
    "# 实例\n",
    "# 1.替换标签类\n",
    "ret = re.sub('<.+?>', \"\", html)\n",
    "print(ret)"
   ]
  },
  {
   "cell_type": "code",
   "execution_count": 244,
   "metadata": {},
   "outputs": [
    {
     "data": {
      "text/plain": [
       "'{as}bc{as}d{as}f'"
      ]
     },
     "execution_count": 244,
     "metadata": {},
     "output_type": "execute_result"
    }
   ],
   "source": [
    " re.sub('(a+)','{as}','aabcaaadaf')"
   ]
  },
  {
   "cell_type": "code",
   "execution_count": 51,
   "metadata": {},
   "outputs": [
    {
     "data": {
      "text/plain": [
       "'(aa)bc(aaa)d(a)f'"
      ]
     },
     "execution_count": 51,
     "metadata": {},
     "output_type": "execute_result"
    }
   ],
   "source": [
    "# substite by group number\n",
    "re.sub('(a+)','(\\g<1>)','aabcaaadaf')"
   ]
  },
  {
   "cell_type": "code",
   "execution_count": 53,
   "metadata": {},
   "outputs": [
    {
     "data": {
      "text/plain": [
       "'(aa)bc(aaa)d(a)f'"
      ]
     },
     "execution_count": 53,
     "metadata": {},
     "output_type": "execute_result"
    }
   ],
   "source": [
    "# substitute by group name\n",
    "# you can replece <name> by whatever you want\n",
    "re.sub('(?P<name>a+)','(\\g<name>)','aabcaaadaf')"
   ]
  },
  {
   "cell_type": "code",
   "execution_count": 262,
   "metadata": {},
   "outputs": [
    {
     "data": {
      "text/plain": [
       "'(\\x01)bc(\\x01)d(\\x01)f'"
      ]
     },
     "execution_count": 262,
     "metadata": {},
     "output_type": "execute_result"
    }
   ],
   "source": [
    "# substitute by group name\n",
    "re.sub('(?P<name>a+)','(\\1)','aabcaaadaf')"
   ]
  },
  {
   "cell_type": "code",
   "execution_count": 267,
   "metadata": {},
   "outputs": [
    {
     "data": {
      "text/plain": [
       "'aabcaaadaf'"
      ]
     },
     "execution_count": 267,
     "metadata": {},
     "output_type": "execute_result"
    }
   ],
   "source": [
    "# 不改变 如果没有匹配\n",
    "re.sub('(z)','(\\g<1>)','aabcaaadaf')"
   ]
  },
  {
   "cell_type": "markdown",
   "metadata": {},
   "source": [
    "### split函数：\n",
    "使用正则表达式来分割字符串。"
   ]
  },
  {
   "cell_type": "code",
   "execution_count": 177,
   "metadata": {},
   "outputs": [
    {
     "name": "stdout",
     "output_type": "stream",
     "text": [
      "['hellp', 'world', 'ni', 'hao']\n"
     ]
    }
   ],
   "source": [
    "text = \"hellp world ni hao\"\n",
    "ret = re.split(' ', text)\n",
    "print(ret)"
   ]
  },
  {
   "cell_type": "code",
   "execution_count": 181,
   "metadata": {},
   "outputs": [
    {
     "name": "stdout",
     "output_type": "stream",
     "text": [
      "['hellp', 'world', 'ni', 'hao']\n"
     ]
    }
   ],
   "source": [
    "# 如果想按空格和&进行分割呢\n",
    "text = \"hellp&world ni hao\"\n",
    "ret = re.split(' |&', text)\n",
    "print(ret)"
   ]
  },
  {
   "cell_type": "code",
   "execution_count": 183,
   "metadata": {},
   "outputs": [
    {
     "name": "stdout",
     "output_type": "stream",
     "text": [
      "['hellp', 'world', 'ni', 'hao']\n"
     ]
    }
   ],
   "source": [
    "# 只要不是英文都当做分隔符\n",
    "text = \"hellp world ni hao\"\n",
    "ret = re.split('[^a-zA-Z]', text)\n",
    "print(ret)"
   ]
  },
  {
   "cell_type": "code",
   "execution_count": 62,
   "metadata": {},
   "outputs": [
    {
     "data": {
      "text/plain": [
       "['a', 'b', 'c']"
      ]
     },
     "execution_count": 62,
     "metadata": {},
     "output_type": "execute_result"
    }
   ],
   "source": [
    "# 需要同\\进行转义\n",
    "re.split('\\.|-', 'a.b-c')"
   ]
  },
  {
   "cell_type": "code",
   "execution_count": 63,
   "metadata": {},
   "outputs": [
    {
     "data": {
      "text/plain": [
       "['a', 'b', 'c']"
      ]
     },
     "execution_count": 63,
     "metadata": {},
     "output_type": "execute_result"
    }
   ],
   "source": [
    "# 其实不需要(?:) 来进行划分,默认就足够识别了\n",
    "re.split('(?:\\.|-)', 'a.b-c')"
   ]
  },
  {
   "cell_type": "code",
   "execution_count": 64,
   "metadata": {},
   "outputs": [
    {
     "data": {
      "text/plain": [
       "['abc', 'd', 'e']"
      ]
     },
     "execution_count": 64,
     "metadata": {},
     "output_type": "execute_result"
    }
   ],
   "source": [
    "re.split(';+'  ,'abc;d;;;e') #;+ zero or more ;'s"
   ]
  },
  {
   "cell_type": "code",
   "execution_count": 75,
   "metadata": {},
   "outputs": [
    {
     "data": {
      "text/plain": [
       "['abc', 'd', 'e']"
      ]
     },
     "execution_count": 75,
     "metadata": {},
     "output_type": "execute_result"
    }
   ],
   "source": [
    "# ()输出结果不包含分隔符 \n",
    "re.split(';+','abc;d;;e')"
   ]
  },
  {
   "cell_type": "code",
   "execution_count": 79,
   "metadata": {},
   "outputs": [
    {
     "data": {
      "text/plain": [
       "['abc', ';', 'd', ';;', 'e']"
      ]
     },
     "execution_count": 79,
     "metadata": {},
     "output_type": "execute_result"
    }
   ],
   "source": [
    "# ()输出结果包含分隔符 \n",
    "re.split('(;+)','abc;d;;e')"
   ]
  },
  {
   "cell_type": "code",
   "execution_count": 78,
   "metadata": {},
   "outputs": [
    {
     "data": {
      "text/plain": [
       "['abc', 'd', 'e']"
      ]
     },
     "execution_count": 78,
     "metadata": {},
     "output_type": "execute_result"
    }
   ],
   "source": [
    "# ?: 可以避免包含分隔符\n",
    "re.split('(?:;+)','abc;d;;e')"
   ]
  },
  {
   "cell_type": "markdown",
   "metadata": {},
   "source": [
    "### compile函数\n",
    "对于一些经常要用到的正则表达式，就可以使用```compile```进行编译，后期再使用的时候可以直接拿过来用，执行效率会更快。而且```compile```还可以指定```flag=re.VERBOSE```,在写正则表达式的时候可以做好注释。示例代码如下："
   ]
  },
  {
   "cell_type": "code",
   "execution_count": 198,
   "metadata": {},
   "outputs": [
    {
     "name": "stdout",
     "output_type": "stream",
     "text": [
      "20.50\n"
     ]
    }
   ],
   "source": [
    "text = \"the number is 20.50\"\n",
    "pattern = re.compile('\\d+\\.?\\d*')\n",
    "ret = pattern.search(text)\n",
    "print(ret.group())"
   ]
  },
  {
   "cell_type": "code",
   "execution_count": 88,
   "metadata": {},
   "outputs": [
    {
     "name": "stdout",
     "output_type": "stream",
     "text": [
      "20.50\n"
     ]
    }
   ],
   "source": [
    "# re.VERBOSE：可以添加注释（因为很容易忘记）\n",
    "text = \"the number is 20.50\"\n",
    "pattern = re.compile(r\"\"\"\n",
    "    \\d+ # 小数点前面的数\n",
    "    \\.? # 小数点本身\n",
    "    \\d* # 小数点后面的数字\n",
    "\"\"\", re.VERBOSE)\n",
    "ret = pattern.search(text)\n",
    "print(ret.group())"
   ]
  },
  {
   "cell_type": "markdown",
   "metadata": {},
   "source": [
    "# Group分组\n",
    "### capture group 捕获分组\n",
    "- (R): 分组\n",
    "- (?P< group_name >R): 命名分组\n",
    "\n",
    "### non-capture group 非捕获分组\n",
    "- (?:R): 不记住顺序"
   ]
  },
  {
   "cell_type": "code",
   "execution_count": 18,
   "metadata": {},
   "outputs": [
    {
     "name": "stdout",
     "output_type": "stream",
     "text": [
      "apple price is $99, orange price is $10\n"
     ]
    }
   ],
   "source": [
    "# group() 显示所有的符合元素\n",
    "text = \"apple price is $99, orange price is $10\"\n",
    "ret = re.search('.*(\\$\\d+).*(\\$\\d+)', text)\n",
    "print(ret.group())"
   ]
  },
  {
   "cell_type": "code",
   "execution_count": 51,
   "metadata": {},
   "outputs": [
    {
     "name": "stdout",
     "output_type": "stream",
     "text": [
      "$99\n"
     ]
    }
   ],
   "source": [
    "# group(#) 选择第#个组 1, 2, 3, 4, ...\n",
    "text = \"apple price is $99, orange price is $10\"\n",
    "ret = re.search('.*(\\$\\d+).*(\\$\\d+)', text)\n",
    "print(ret.group(1))"
   ]
  },
  {
   "cell_type": "code",
   "execution_count": 33,
   "metadata": {},
   "outputs": [
    {
     "name": "stdout",
     "output_type": "stream",
     "text": [
      "$10\n"
     ]
    }
   ],
   "source": [
    "# （R）捕获分组\n",
    "text = \"apple price is $99, orange price is $10\"\n",
    "ret = re.search('.*(\\$\\d+).*(\\$\\d+)', text)\n",
    "print(ret.group(2))"
   ]
  },
  {
   "cell_type": "code",
   "execution_count": 48,
   "metadata": {},
   "outputs": [
    {
     "name": "stdout",
     "output_type": "stream",
     "text": [
      "$99\n"
     ]
    }
   ],
   "source": [
    "# (?P<name>R) 命名分组 \n",
    "text = \"apple price is $99, orange price is $10\"\n",
    "ret = re.search('.*(?P<price1>\\$\\d+).*(\\$\\d+)', text)\n",
    "print(ret.group('price1'))"
   ]
  },
  {
   "cell_type": "code",
   "execution_count": 92,
   "metadata": {},
   "outputs": [
    {
     "name": "stdout",
     "output_type": "stream",
     "text": [
      "$99\n"
     ]
    }
   ],
   "source": [
    "text = \"apple price is $99, orange price is $10\"\n",
    "ret = re.search('.*(?P<price1>\\$\\d+).*(\\$\\d+)', text)\n",
    "print(ret.group(1))"
   ]
  },
  {
   "cell_type": "code",
   "execution_count": 90,
   "metadata": {},
   "outputs": [
    {
     "name": "stdout",
     "output_type": "stream",
     "text": [
      "('$99', '$10')\n"
     ]
    }
   ],
   "source": [
    "text = \"apple price is $99, orange price is $10\"\n",
    "ret = re.search('.*(?P<price1>\\$\\d+).*(\\$\\d+)', text)\n",
    "print(ret.groups())"
   ]
  },
  {
   "cell_type": "code",
   "execution_count": 71,
   "metadata": {},
   "outputs": [
    {
     "name": "stdout",
     "output_type": "stream",
     "text": [
      "Malcolm\n",
      "Reynolds\n",
      "Malcolm\n",
      "First Name: Malcolm; Last Name: Reynolds\n",
      "('Malcolm', 'Reynolds')\n"
     ]
    }
   ],
   "source": [
    "text = \"First Name: Malcolm; Last Name: Reynolds\"\n",
    "m = re.match(r\"First Name: (?P<first_name>\\w+); Last Name: (?P<last_name>\\w+)\", text)\n",
    "print(m.group('first_name'))\n",
    "print(m.group('last_name'))\n",
    "print(m.group(1))\n",
    "print(m.group(0))\n",
    "print(m.groups())"
   ]
  },
  {
   "cell_type": "code",
   "execution_count": 11,
   "metadata": {},
   "outputs": [
    {
     "name": "stdout",
     "output_type": "stream",
     "text": [
      "Reynolds\n",
      "('Reynolds',)\n"
     ]
    }
   ],
   "source": [
    "# (?:R) 非捕获分组\n",
    "text = \"First Name: Malcolm; Last Name: Reynolds\"\n",
    "m = re.match(r\"First Name: (?:\\w+); Last Name: (?P<last_name>\\w+)\", text)\n",
    "print(m.group(1))\n",
    "print(m.groups())"
   ]
  },
  {
   "cell_type": "code",
   "execution_count": 9,
   "metadata": {},
   "outputs": [
    {
     "name": "stdout",
     "output_type": "stream",
     "text": [
      "First Name: Malcolm; Last Name: Reynolds\n"
     ]
    }
   ],
   "source": [
    "print(m.group())"
   ]
  },
  {
   "cell_type": "code",
   "execution_count": null,
   "metadata": {},
   "outputs": [],
   "source": []
  },
  {
   "cell_type": "code",
   "execution_count": 78,
   "metadata": {},
   "outputs": [
    {
     "name": "stdout",
     "output_type": "stream",
     "text": [
      "['T', 't']\n",
      "['The', 'the']\n",
      "['The', 'the']\n"
     ]
    }
   ],
   "source": [
    "# (T|t)可以匹配多个模式，同时也是一个分组，会被捕获\n",
    "print(re.findall(r'(T|t)he', 'The the'))  # ['T', 't']\n",
    "# 方括号也可以匹配多模式\n",
    "print(re.findall(r'[T|t]he', 'The the'))  # ['The', 'the']\n",
    "# 非捕获分组\n",
    "print(re.findall(r'(?:T|t)he', 'The the')) # ['The', 'the']"
   ]
  },
  {
   "cell_type": "code",
   "execution_count": 84,
   "metadata": {},
   "outputs": [
    {
     "name": "stdout",
     "output_type": "stream",
     "text": [
      "['T', 't']\n"
     ]
    }
   ],
   "source": [
    "print(re.findall(r'(.)he', 'The the')) "
   ]
  },
  {
   "cell_type": "markdown",
   "metadata": {},
   "source": [
    "#### Ex: phone number"
   ]
  },
  {
   "cell_type": "code",
   "execution_count": 181,
   "metadata": {},
   "outputs": [
    {
     "name": "stdout",
     "output_type": "stream",
     "text": [
      "(949)824-2704\n",
      "('949', '824', '2704')\n",
      "949 824 2704\n"
     ]
    }
   ],
   "source": [
    "phone = r'^(?:\\((\\d{3})\\))?(\\d{3})[-.](\\d{4})$'\n",
    "m = re.match(phone,'(949)824-2704')\n",
    "print(m.group())\n",
    "print(m.groups())\n",
    "area, exchange, number = [int(i) if i != None else None for i in m.group(1,2,3)]\n",
    "print(area, exchange, number)"
   ]
  },
  {
   "cell_type": "code",
   "execution_count": 189,
   "metadata": {},
   "outputs": [
    {
     "name": "stdout",
     "output_type": "stream",
     "text": [
      "(949)824-2704\n"
     ]
    }
   ],
   "source": [
    "# compile\n",
    "phone_pat = re.compile(r'^(?:\\((\\d{3})\\))?(\\d{3})[-.](\\d{4})$')\n",
    "m = phone_pat.match('(949)824-2704')\n",
    "print(m.group())"
   ]
  },
  {
   "cell_type": "markdown",
   "metadata": {},
   "source": [
    "#### Q1:\n",
    "Write a regular expression pattern that matches the strings Jul 4, July 4,  \n",
    "Jul 4th, July 4th, July fourth, and July Fourth.  \n",
    "Hint: my re pattern was 24 characters.  "
   ]
  },
  {
   "cell_type": "code",
   "execution_count": 192,
   "metadata": {},
   "outputs": [
    {
     "name": "stdout",
     "output_type": "stream",
     "text": [
      "Jul 4\n",
      "July 4\n",
      "Jul 4th\n",
      "July 4th\n",
      "July f\n",
      "July Fourth\n"
     ]
    }
   ],
   "source": [
    "for text in ['Jul 4', 'July 4', 'Jul 4th', 'July 4th', 'July fourth', 'July Fourth']:\n",
    "    m = re.match(r\"July? (?:4|f|Four)(?:th)?\", text)\n",
    "    print(m.group())"
   ]
  },
  {
   "cell_type": "markdown",
   "metadata": {},
   "source": [
    "#### Q2:\n",
    "Write a regular expression pattern that matches strings representing times on  \n",
    "a 12 hour clock. An example time is  5:09am or 11:23pm. Allow only times that  \n",
    "are legal (not 1:73pm nor 13:02pm)  \n",
    "Hint: my re pattern was 32 characters."
   ]
  },
  {
   "cell_type": "code",
   "execution_count": 151,
   "metadata": {},
   "outputs": [
    {
     "name": "stdout",
     "output_type": "stream",
     "text": [
      "10:59am\n"
     ]
    }
   ],
   "source": [
    "text = \"10:59am\"\n",
    "m = re.match(r\"([0-9]|1[01]):[0-5][0-9][a|p]m\", text)\n",
    "print(m.group())"
   ]
  },
  {
   "cell_type": "code",
   "execution_count": 208,
   "metadata": {},
   "outputs": [
    {
     "data": {
      "text/plain": [
       "'aaab'"
      ]
     },
     "execution_count": 208,
     "metadata": {},
     "output_type": "execute_result"
    }
   ],
   "source": [
    "m = re.search(\"(a+)b\",\"xaaab\")\n",
    "m.group()"
   ]
  },
  {
   "cell_type": "markdown",
   "metadata": {},
   "source": [
    "# Notes:"
   ]
  },
  {
   "cell_type": "code",
   "execution_count": 276,
   "metadata": {},
   "outputs": [
    {
     "data": {
      "text/plain": [
       "('',)"
      ]
     },
     "execution_count": 276,
     "metadata": {},
     "output_type": "execute_result"
    }
   ],
   "source": [
    "re.match('a(b?)c','ac').groups()"
   ]
  },
  {
   "cell_type": "code",
   "execution_count": 98,
   "metadata": {},
   "outputs": [
    {
     "data": {
      "text/plain": [
       "(None,)"
      ]
     },
     "execution_count": 98,
     "metadata": {},
     "output_type": "execute_result"
    }
   ],
   "source": [
    "re.match('a(b)?c','ac').groups()"
   ]
  },
  {
   "cell_type": "code",
   "execution_count": 81,
   "metadata": {},
   "outputs": [
    {
     "data": {
      "text/plain": [
       "('949', '824', '2704')"
      ]
     },
     "execution_count": 81,
     "metadata": {},
     "output_type": "execute_result"
    }
   ],
   "source": [
    "phone_pat = re.compile(r'^(?:\\((\\d{3})\\))?(\\d{3})[-.](\\d{4})$')\n",
    "m = phone_pat.match('(949)824-2704')\n",
    "m.groups()"
   ]
  },
  {
   "cell_type": "code",
   "execution_count": 86,
   "metadata": {},
   "outputs": [
    {
     "data": {
      "text/plain": [
       "('949', '823', '2704')"
      ]
     },
     "execution_count": 86,
     "metadata": {},
     "output_type": "execute_result"
    }
   ],
   "source": [
    "m = phone_pat.match('(949)823.2704')\n",
    "m.groups()"
   ]
  },
  {
   "cell_type": "code",
   "execution_count": 99,
   "metadata": {},
   "outputs": [],
   "source": [
    "def f(n):\n",
    "    def g(x):\n",
    "        if x>0: return '1'\n",
    "        else: return '0'\n",
    "    a = g(n)\n",
    "    return a"
   ]
  },
  {
   "cell_type": "code",
   "execution_count": 101,
   "metadata": {},
   "outputs": [
    {
     "data": {
      "text/plain": [
       "'0'"
      ]
     },
     "execution_count": 101,
     "metadata": {},
     "output_type": "execute_result"
    }
   ],
   "source": [
    "f(-1)"
   ]
  },
  {
   "cell_type": "code",
   "execution_count": 104,
   "metadata": {},
   "outputs": [
    {
     "data": {
      "text/plain": [
       "'x-\\n\\t\\ty-'"
      ]
     },
     "execution_count": 104,
     "metadata": {},
     "output_type": "execute_result"
    }
   ],
   "source": [
    "('\\n'+2*'\\t').join(i + '-' for i in ['x','y'])"
   ]
  },
  {
   "cell_type": "code",
   "execution_count": 105,
   "metadata": {},
   "outputs": [
    {
     "data": {
      "text/plain": [
       "False"
      ]
     },
     "execution_count": 105,
     "metadata": {},
     "output_type": "execute_result"
    }
   ],
   "source": []
  },
  {
   "cell_type": "code",
   "execution_count": null,
   "metadata": {},
   "outputs": [],
   "source": []
  },
  {
   "cell_type": "code",
   "execution_count": null,
   "metadata": {},
   "outputs": [],
   "source": []
  }
 ],
 "metadata": {
  "kernelspec": {
   "display_name": "Python 3",
   "language": "python",
   "name": "python3"
  },
  "language_info": {
   "codemirror_mode": {
    "name": "ipython",
    "version": 3
   },
   "file_extension": ".py",
   "mimetype": "text/x-python",
   "name": "python",
   "nbconvert_exporter": "python",
   "pygments_lexer": "ipython3",
   "version": "3.7.0"
  }
 },
 "nbformat": 4,
 "nbformat_minor": 2
}
